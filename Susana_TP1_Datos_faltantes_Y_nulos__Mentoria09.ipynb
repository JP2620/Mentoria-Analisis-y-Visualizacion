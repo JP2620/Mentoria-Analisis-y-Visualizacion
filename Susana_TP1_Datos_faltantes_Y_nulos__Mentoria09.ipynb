{
  "nbformat": 4,
  "nbformat_minor": 0,
  "metadata": {
    "colab": {
      "provenance": [],
      "include_colab_link": true
    },
    "kernelspec": {
      "name": "python3",
      "display_name": "Python 3"
    }
  },
  "cells": [
    {
      "cell_type": "markdown",
      "metadata": {
        "id": "view-in-github",
        "colab_type": "text"
      },
      "source": [
        "<a href=\"https://colab.research.google.com/github/JP2620/Mentoria-Analisis-y-Visualizacion/blob/main/Susana_TP1_Datos_faltantes_Y_nulos__Mentoria09.ipynb\" target=\"_parent\"><img src=\"https://colab.research.google.com/assets/colab-badge.svg\" alt=\"Open In Colab\"/></a>"
      ]
    },
    {
      "cell_type": "markdown",
      "metadata": {
        "id": "LYvAOR2VzHmW"
      },
      "source": [
        "\n",
        "# **Mentoría Ciencia de datos aplicada a la predicción de licencias médicas y comportamiento de los colaboradores**\n",
        "Trabajaremos con datos obtenidos de una plataforma de salud ocupacional con el **objetivo de predecir la carga de licencias médicas**. Se propone **realizar un análisis temporal a diferentes escalas**, e identificar las variables asociadas que **expliquen el número de licencias y/o diagnósticos involucrados**.\n",
        "## **Trabajo Práctico 1: Análisis y Visualización de Datos**\n",
        "\n",
        "---\n",
        "\n",
        "# Datos\n",
        "\n"
      ]
    },
    {
      "cell_type": "code",
      "metadata": {
        "id": "Xwdfo7z20TUK"
      },
      "source": [
        "import io\n",
        "import matplotlib\n",
        "import matplotlib.pyplot as plt\n",
        "import numpy as np\n",
        "import pandas as pd\n",
        "import seaborn as sns\n",
        "\n",
        "sns.set_context('talk')"
      ],
      "execution_count": null,
      "outputs": []
    },
    {
      "cell_type": "markdown",
      "metadata": {
        "id": "XY2Hl-Ma07Nn"
      },
      "source": [
        "## Lectura del dataset\n"
      ]
    },
    {
      "cell_type": "code",
      "metadata": {
        "id": "Vviv_sqXdR5W"
      },
      "source": [
        "url = 'https://raw.githubusercontent.com/MentoriaDiploDatos/Presentacion/main/data.csv'\n",
        "df = pd.read_csv(url, sep=';')"
      ],
      "execution_count": null,
      "outputs": []
    },
    {
      "cell_type": "markdown",
      "source": [
        "### #1 **¿Cuáles son las columnas relevantes del dataset? **\n",
        "Selecciono las columnas más relevantes en base al objetivo:\n",
        "\n",
        "\n",
        "*   observar si existe un sobredimensionamiento en la cantidad de días solicitados en las licencias médicas\n",
        "*   el análisis debe ser temporal por lo que son importantes las fechas para realizarlo.\n",
        "\n",
        "Para lo cual, reviso la info general del DS (dataset) lo que me permite determinar el total de filas,\n",
        "los tipos de datos de cada columna,\n",
        "las columnas que no contienen dato (nAn)\n",
        "\n",
        "\n"
      ],
      "metadata": {
        "id": "EbjL9Skdw_eG"
      }
    },
    {
      "cell_type": "code",
      "source": [
        "# Reviso la información gral. del dataset\n",
        "df.info()"
      ],
      "metadata": {
        "id": "pXNgwmRfJgTN"
      },
      "execution_count": null,
      "outputs": []
    },
    {
      "cell_type": "code",
      "source": [
        "df.columns\n"
      ],
      "metadata": {
        "id": "k2xWxjWOACtU"
      },
      "execution_count": null,
      "outputs": []
    },
    {
      "cell_type": "markdown",
      "source": [
        "De la info recogida en el item 1 se observa que las fechas tienen tipo de dato \"object\" y lo modificaré para posteriormente realizar análisis de series de tiempo"
      ],
      "metadata": {
        "id": "buTJRyXZ29ax"
      }
    },
    {
      "cell_type": "code",
      "source": [
        "df['fecha_creacion'] = pd.to_datetime(df['fecha_creacion'])\n",
        "df['fecha_inicio'] = pd.to_datetime(df['fecha_inicio'])\n",
        "df['fecha_fin'] = pd.to_datetime(df['fecha_fin'])\n",
        "df['fecha_nacimiento'] = pd.to_datetime(df['fecha_nacimiento'])\n",
        "df.dtypes\n",
        "df.info()"
      ],
      "metadata": {
        "id": "tdaOeie02d-x"
      },
      "execution_count": null,
      "outputs": []
    },
    {
      "cell_type": "code",
      "source": [
        "# Construyo un dataset con las columnas relevantes\n",
        "relevant_columns = ['fecha_creacion',\n",
        "       'dias_solicitados', 'fecha_inicio', 'fecha_fin', 'diagnostico',\n",
        "       'id_diagnostico', 'fecha_nacimiento', 'genero',\n",
        "       'tipo_licencia', 'estado_civil', 'dias_aprobados', 'decision_medica',\n",
        "       'id_auditor', 'motivo_rechazo', 'categoria_diagnostico']\n",
        "dfrelev = df[relevant_columns]\n",
        "dfrelev[:3]"
      ],
      "metadata": {
        "id": "KaZ2y2aFAJjM"
      },
      "execution_count": null,
      "outputs": []
    },
    {
      "cell_type": "markdown",
      "source": [
        "### 2 *¿Qué tipo de variable es cada una?\n",
        "Asegurar que tengan el tipo de datos adecuado. Por ejemplo, para el caso de las fechas usar librería datetime para su conversión. En el paso anterior se realizó la transformación del tipo de dato de las fechas\n"
      ],
      "metadata": {
        "id": "IgS5-YDbd1uy"
      }
    },
    {
      "cell_type": "code",
      "source": [
        "dfrelev.dtypes\n",
        "dfrelev.info()"
      ],
      "metadata": {
        "id": "J2wV9bvz97Rs"
      },
      "execution_count": null,
      "outputs": []
    },
    {
      "cell_type": "code",
      "source": [
        "#ordeno el set de datos por fecha de creación\n",
        "dfrelev.sort_values(by='fecha_creacion', ascending=True).head(7)"
      ],
      "metadata": {
        "id": "q2-KRYv9rvV8"
      },
      "execution_count": null,
      "outputs": []
    },
    {
      "cell_type": "markdown",
      "source": [
        "## **3 Exploración del DataSet**\n",
        "Se revisa el DataSet para revisar si se detectan:\n",
        "**Valores faltantes**: aquellos datos que no se encuentran presentes en una variable o columna determinada, ya sea porque no se registraron o porque se perdieron.\n",
        "\n",
        "\n"
      ],
      "metadata": {
        "id": "zLWdWpGBKdqI"
      }
    },
    {
      "cell_type": "code",
      "source": [
        "# Se revisan los valores nulos (None o NaN)\n",
        "null_values_count = dfrelev.isnull().sum()\n",
        "null_values_count"
      ],
      "metadata": {
        "id": "H4ZRU8rkrljJ"
      },
      "execution_count": null,
      "outputs": []
    },
    {
      "cell_type": "code",
      "source": [
        "\n",
        "import missingno as msno\n",
        "#len(dfrelev)\n",
        "#print(len(dfrelev.dias_solicitados))\n",
        "#print(len(dfrelev.tipo_licencia))\n",
        "\n",
        "msno.matrix(dfrelev , figsize=(12, 6), fontsize=12, color=[0,0,0.2])\n",
        "\n",
        "#print(dfrelev['dias_solicitados'].isnull().sum())\n",
        "#print(dfrelev['tipo_licencia'].isnull().sum())\n",
        "#print(dfrelev['dias_solicitados'].describe() )\n",
        "#print(dfrelev['tipo_licencia'].describe() )"
      ],
      "metadata": {
        "id": "fGzALfZQzQDM"
      },
      "execution_count": null,
      "outputs": []
    },
    {
      "cell_type": "markdown",
      "source": [
        "Para encontrar valores **INCOMPLETOS o CORRUPTOS** se estudia y determinan rangos esperados o ciertos criteros que deben cumplir los valores de cada columna para imputar los correspondientes valores correctos con el método más adecuado o, en caso de ser posible, eliminar las filas con valores faltantes, incompletos o corruptos."
      ],
      "metadata": {
        "id": "3qBOgE7PO3cl"
      }
    },
    {
      "cell_type": "markdown",
      "source": [],
      "metadata": {
        "id": "YPJfrCjsQItC"
      }
    },
    {
      "cell_type": "code",
      "source": [
        "dfrelev.sort_values(by='fecha_creacion', ascending=True).head(7)"
      ],
      "metadata": {
        "id": "Ci7AbsEgnBTM"
      },
      "execution_count": null,
      "outputs": []
    },
    {
      "cell_type": "code",
      "source": [
        "plt.figure(figsize=(10, 6))\n",
        "plt.boxplot(data= dfrelev[dfrelev.dias_aprobados <365] , x='dias_aprobados',)\n",
        "plt.show()\n"
      ],
      "metadata": {
        "id": "hVGnvmSR6EZ9"
      },
      "execution_count": null,
      "outputs": []
    },
    {
      "cell_type": "markdown",
      "source": [
        "### Calculo la cantidad de días de licencia que fueron  efectivamente autorizados"
      ],
      "metadata": {
        "id": "cn_uoxpKHB_S"
      }
    },
    {
      "cell_type": "code",
      "source": [
        "#4 CALCULO LA CANTIDAD DE DÍAS EFECTIVAMENTE AUTORIZADOS DE LICENCIA\n",
        "def days_between(row):\n",
        "    d1 = pd.to_datetime(row['fecha_inicio'], format='%Y-%m-%d')\n",
        "    d2 = pd.to_datetime(row['fecha_fin'], format='%Y-%m-%d')\n",
        "    return abs((d2 - d1).days)\n",
        "\n",
        "dfrelev['dias_lic_efectiva'] = dfrelev.apply(days_between, axis=1)"
      ],
      "metadata": {
        "id": "NYp20-rDHAlg"
      },
      "execution_count": null,
      "outputs": []
    },
    {
      "cell_type": "markdown",
      "source": [
        "## #4 CALCULO LA EDAD\n",
        "A partir de la fecha de nacimiento calcular la edad del colaborador que solicita la licencia."
      ],
      "metadata": {
        "id": "l0Ra9yR3Danv"
      }
    },
    {
      "cell_type": "code",
      "source": [
        "#4 CALCULO LA EDAD A partir de la fecha de nacimiento calcular la edad del colaborador que solicita la licencia.\n",
        "def calculate_age(row):\n",
        "    fecha_nacimiento = pd.to_datetime(row['fecha_nacimiento'])\n",
        "    fecha_inicio = pd.to_datetime(row['fecha_inicio'])\n",
        "    return fecha_inicio.year - fecha_nacimiento.year - ((fecha_inicio.month, fecha_inicio.day) < (fecha_nacimiento.month, fecha_nacimiento.day))\n",
        "\n",
        "dfrelev['edad'] = dfrelev.apply(calculate_age, axis=1)\n",
        "dfrelev.dtypes\n"
      ],
      "metadata": {
        "id": "mkAv92sa8hMC"
      },
      "execution_count": null,
      "outputs": []
    },
    {
      "cell_type": "code",
      "source": [
        "dfrelev[:3]\n"
      ],
      "metadata": {
        "id": "xkQ2Tjo6trvq"
      },
      "execution_count": null,
      "outputs": []
    },
    {
      "cell_type": "markdown",
      "source": [
        "#6 Realicen un análisis estadístico de cada una de las variables numéricas:\n",
        "Cantidad de datos, mínimo, máximo, media, mediana, varianza, desviación estándar, cuartil 1, cuartil 3, rango intercuartílico.\n",
        "    6.A) Elijan una o dos variables categóricas, repetir este análisis y sacar conclusiones.\n",
        "    6.B) ¿El tiempo es una variable influyente en las distribuciones de estas variables? Ayudarse de gráficos para contestar esta pregunta."
      ],
      "metadata": {
        "id": "7N4KWKB4LeBr"
      }
    },
    {
      "cell_type": "code",
      "source": [
        "dfrelev.shape"
      ],
      "metadata": {
        "id": "KVTB7UBX29BZ"
      },
      "execution_count": null,
      "outputs": []
    },
    {
      "cell_type": "code",
      "source": [
        "dfrelev.describe()"
      ],
      "metadata": {
        "collapsed": true,
        "id": "nCK5dnWl3HbU"
      },
      "execution_count": null,
      "outputs": []
    },
    {
      "cell_type": "code",
      "source": [
        "# ESTADÍSTICAS DE DATOS NUMÉRICOS **DIAS SOLICITADOS**\n",
        "import numpy as np\n",
        "print(dfrelev['dias_solicitados'].describe() )\n",
        "# dfrelev.apply(np.nanvar, axis=0) FALTA CALCULAR LA VARIANZA.."
      ],
      "metadata": {
        "id": "Cxs6fN-QNgFK"
      },
      "execution_count": null,
      "outputs": []
    },
    {
      "cell_type": "code",
      "source": [
        "# ESTADÍSTICAS DE DATOS NUMÉRICOS **DIAS APROBADOS**\n",
        "print(dfrelev['dias_aprobados'].describe() )\n",
        "# dfrelev.apply(np.nanvar, axis=0) FALTA CALCULAR LA VARIANZA.."
      ],
      "metadata": {
        "id": "JBmr5vAAS1id"
      },
      "execution_count": null,
      "outputs": []
    },
    {
      "cell_type": "code",
      "source": [
        "# ESTADÍSTICAS DE DATOS NUMÉRICOS **DIAS LICENCIA EFECTIVA**\n",
        "print(dfrelev['dias_lic_efectiva'].describe() )\n",
        "# dfrelev.apply(np.nanvar, axis=0) FALTA CALCULAR LA VARIANZA.."
      ],
      "metadata": {
        "id": "P36m6gOETNSu"
      },
      "execution_count": null,
      "outputs": []
    },
    {
      "cell_type": "code",
      "source": [
        "# ESTADÍSTICAS DE DATOS NUMÉRICOS **EDAD**\n",
        "print(dfrelev['edad'].describe() )\n",
        "# dfrelev.apply(np.nanvar, axis=0) FALTA CALCULAR LA VARIANZA.."
      ],
      "metadata": {
        "id": "kJf9dkZRTXmV"
      },
      "execution_count": null,
      "outputs": []
    },
    {
      "cell_type": "markdown",
      "source": [
        "### ** 6.A) Elijan una o dos variables categóricas, repetir este análisis y sacar conclusiones.**"
      ],
      "metadata": {
        "id": "2i7x6BOyRoKT"
      }
    },
    {
      "cell_type": "code",
      "source": [
        "# Se seleccionan las variables categóricas decision_medica y motivo_de_rechazo\n",
        "dfrelev.decision_medica.unique()\n"
      ],
      "metadata": {
        "id": "hAjuX3w6R0y7"
      },
      "execution_count": null,
      "outputs": []
    },
    {
      "cell_type": "code",
      "source": [
        "\n",
        "fig = plt.figure(figsize=(8,4)) #se genera la figura y se define su tamaño\n",
        "sns.countplot(x=dfrelev['decision_medica']) # gráfico de conteos de la primer columna (decision_medica)\n",
        "plt.tick_params(axis = 'x', labelrotation=75)\n",
        "plt.show()"
      ],
      "metadata": {
        "id": "ugvd2Xoidur6"
      },
      "execution_count": null,
      "outputs": []
    },
    {
      "cell_type": "markdown",
      "source": [
        "Las licencias rechazadas son mínimas en comparación con las aprobadas y las que figuran EDITAR_APROBAR."
      ],
      "metadata": {
        "id": "aiaTt_R6Njq2"
      }
    },
    {
      "cell_type": "code",
      "source": [
        "dfrelev.motivo_rechazo.unique()\n",
        "\n",
        "dfrelev.loc[:,'motivo_rechazo'] = dfrelev.motivo_rechazo.replace({'Se aprueba la licencia':'lic.aprobada'\n",
        "       ,'La documentacion adjuntada no cumple requisitos':'Docum.no cumple req.'\n",
        "       ,'Se aprueba por menos dias':'Aprueba menos dias'\n",
        "       ,'Diagnostico no valido': 'Diagnostico no valido'\n",
        "       ,'Motivos formales':'Motivos formales'\n",
        "       ,'Ausente a turno':'Ausente a turno'\n",
        "       ,'Otros motivos':'Otros motivos'}).fillna(False)"
      ],
      "metadata": {
        "id": "ra5PIL1HYdeV"
      },
      "execution_count": null,
      "outputs": []
    },
    {
      "cell_type": "code",
      "source": [
        "fig = plt.figure(figsize=(8,4)) #se genera la figura y se define su tamaño\n",
        "#sns.countplot(x=dfrelev.motivo_rechazo,orient=\"v\", color='steelblue') # gráfico de conteos de la segunda columna (decision_medica)\n",
        "sns.set_theme(style=\"whitegrid\")\n",
        "sns.countplot(x=dfrelev[\"motivo_rechazo\"])\n",
        "plt.tick_params(axis = 'x', labelrotation=75)\n",
        "plt.show()"
      ],
      "metadata": {
        "id": "o8pc3QXKhfbl"
      },
      "execution_count": null,
      "outputs": []
    },
    {
      "cell_type": "markdown",
      "source": [
        "Se observa que en la columna motivo_rechazo se incluyen valores que no corresponden a un rechazo Ej. licencia aprobada, o el caso de los false que corresponden a datos None o NaN"
      ],
      "metadata": {
        "id": "5F6CB7gXKmxv"
      }
    }
  ]
}