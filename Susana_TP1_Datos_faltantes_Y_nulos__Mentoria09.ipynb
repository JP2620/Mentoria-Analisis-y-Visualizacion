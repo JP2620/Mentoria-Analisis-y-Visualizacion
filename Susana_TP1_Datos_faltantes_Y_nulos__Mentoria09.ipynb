{
  "nbformat": 4,
  "nbformat_minor": 0,
  "metadata": {
    "colab": {
      "provenance": [],
      "include_colab_link": true
    },
    "kernelspec": {
      "name": "python3",
      "display_name": "Python 3"
    }
  },
  "cells": [
    {
      "cell_type": "markdown",
      "metadata": {
        "id": "view-in-github",
        "colab_type": "text"
      },
      "source": [
        "<a href=\"https://colab.research.google.com/github/JP2620/Mentoria-Analisis-y-Visualizacion/blob/main/Susana_TP1_Datos_faltantes_Y_nulos__Mentoria09.ipynb\" target=\"_parent\"><img src=\"https://colab.research.google.com/assets/colab-badge.svg\" alt=\"Open In Colab\"/></a>"
      ]
    },
    {
      "cell_type": "markdown",
      "metadata": {
        "id": "LYvAOR2VzHmW"
      },
      "source": [
        "\n",
        "# **Mentoría Ciencia de datos aplicada a la predicción de licencias médicas y comportamiento de los colaboradores**\n",
        "Trabajaremos con datos obtenidos de una plataforma de salud ocupacional con el **objetivo de predecir la carga de licencias médicas**. Se propone **realizar un análisis temporal a diferentes escalas**, e identificar las variables asociadas que **expliquen el número de licencias y/o diagnósticos involucrados**.\n",
        "## **Trabajo Práctico 1: Análisis y Visualización de Datos**\n",
        "\n",
        "---\n",
        "\n",
        "# Datos\n",
        "\n"
      ]
    },
    {
      "cell_type": "code",
      "metadata": {
        "id": "Xwdfo7z20TUK"
      },
      "source": [
        "import io\n",
        "import matplotlib\n",
        "import matplotlib.pyplot as plt\n",
        "import numpy\n",
        "import pandas as pd\n",
        "import seaborn as sns\n",
        "\n",
        "sns.set_context('talk')"
      ],
      "execution_count": null,
      "outputs": []
    },
    {
      "cell_type": "code",
      "source": [],
      "metadata": {
        "id": "H6Eo-FKM13ZM"
      },
      "execution_count": null,
      "outputs": []
    },
    {
      "cell_type": "markdown",
      "source": [],
      "metadata": {
        "id": "ymDiQeJZ139c"
      }
    },
    {
      "cell_type": "markdown",
      "metadata": {
        "id": "XY2Hl-Ma07Nn"
      },
      "source": [
        "## Lectura del dataset\n"
      ]
    },
    {
      "cell_type": "code",
      "metadata": {
        "id": "Vviv_sqXdR5W"
      },
      "source": [
        "url = 'https://raw.githubusercontent.com/MentoriaDiploDatos/Presentacion/main/data.csv'\n",
        "df = pd.read_csv(url, sep=';')"
      ],
      "execution_count": null,
      "outputs": []
    },
    {
      "cell_type": "markdown",
      "source": [
        "### #1 **¿Cuáles son las columnas relevantes del dataset? **\n",
        "Selecciono las columnas más relevantes en base al objetivo:\n",
        "\n",
        "\n",
        "*   observar si existe un sobredimensionamiento en la cantidad de días solicitados en las licencias médicas\n",
        "*   el análisis debe ser temporal por lo que son importantes las fechas para realizarlo.\n",
        "\n",
        "Para lo cual, reviso la info general del DS (dataset) lo que me permite determinar el total de filas,\n",
        "los tipos de datos de cada columna,\n",
        "las columnas que no contienen dato (nAn)\n",
        "\n",
        "\n"
      ],
      "metadata": {
        "id": "EbjL9Skdw_eG"
      }
    },
    {
      "cell_type": "code",
      "source": [
        "# Reviso la información gral. del dataset\n",
        "df.info()"
      ],
      "metadata": {
        "id": "pXNgwmRfJgTN"
      },
      "execution_count": null,
      "outputs": []
    },
    {
      "cell_type": "code",
      "source": [
        "df.columns\n"
      ],
      "metadata": {
        "id": "k2xWxjWOACtU"
      },
      "execution_count": null,
      "outputs": []
    },
    {
      "cell_type": "markdown",
      "source": [
        "De la info recogida en el item 1 se observa que las fechas tienen tipo de dato \"object\" y lo modificaré para posteriormente realizar análisis de series de tiempo"
      ],
      "metadata": {
        "id": "buTJRyXZ29ax"
      }
    },
    {
      "cell_type": "code",
      "source": [
        "df['fecha_creacion'] = pd.to_datetime(df['fecha_creacion'])\n",
        "df['fecha_inicio'] = pd.to_datetime(df['fecha_inicio'])\n",
        "df['fecha_fin'] = pd.to_datetime(df['fecha_fin'])\n",
        "df['fecha_nacimiento'] = pd.to_datetime(df['fecha_nacimiento'])\n",
        "df.dtypes\n",
        "df.info()"
      ],
      "metadata": {
        "id": "tdaOeie02d-x"
      },
      "execution_count": null,
      "outputs": []
    },
    {
      "cell_type": "code",
      "source": [
        "# Construyo un dataset con las columnas relevantes\n",
        "relevant_columns = ['fecha_creacion',\n",
        "       'dias_solicitados', 'fecha_inicio', 'fecha_fin', 'diagnostico',\n",
        "       'id_diagnostico', 'fecha_nacimiento', 'genero',\n",
        "       'tipo_licencia', 'estado_civil', 'dias_aprobados', 'decision_medica',\n",
        "       'id_auditor', 'motivo_rechazo', 'categoria_diagnostico']\n",
        "dfrelev = df[relevant_columns]\n",
        "dfrelev[:3]"
      ],
      "metadata": {
        "id": "KaZ2y2aFAJjM"
      },
      "execution_count": null,
      "outputs": []
    },
    {
      "cell_type": "markdown",
      "source": [
        "### 2 *¿Qué tipo de variable es cada una?\n",
        "Asegurar que tengan el tipo de datos adecuado. Por ejemplo, para el caso de las fechas usar librería datetime para su conversión. En el paso anterior se realizó la transformación del tipo de dato de las fechas\n"
      ],
      "metadata": {
        "id": "IgS5-YDbd1uy"
      }
    },
    {
      "cell_type": "code",
      "source": [
        "dfrelev.dtypes\n",
        "dfrelev.info()"
      ],
      "metadata": {
        "id": "J2wV9bvz97Rs"
      },
      "execution_count": null,
      "outputs": []
    },
    {
      "cell_type": "code",
      "source": [
        "#ordeno el set de datos por fecha de creación\n",
        "dfrelev.sort_values(by='fecha_creacion', ascending=True).head(7)"
      ],
      "metadata": {
        "id": "q2-KRYv9rvV8"
      },
      "execution_count": null,
      "outputs": []
    },
    {
      "cell_type": "markdown",
      "source": [
        "## **3 Exploración del DataSet**\n",
        "Se revisa el DataSet para revisar si se detectan;}:\n",
        "Valores faltantes: aquellos datos que no se encuentran presentes en una variable o columna determinada, ya sea porque no se registraron o porque se perdieron.\n",
        "Valores nulos: incompletos o corruptos.\n",
        "\n",
        "## **Hay que decidir que gráfico es el más adecuado en cada caso para la acción a realizar**\n",
        "\n",
        "\n",
        "**id_diagnostico** tiene 310 valores 0 pero es un código válido OTITIS EXTERNA mientras que hay  157021 valores nAn que deben ser completados con ENCODING tomando como referencia la columna DIAGNOSTICO\n",
        "560 **dias_solicitados** en 0 que no encuentro a priori algún patrón para asignarles valor mientras que en nAn son 6035 que corresponden a los **tipo_licencia 'Médica_por_Hospitalización'** da cierto indicio que se trata del procedimiento del sistema de alta de licencias y por lo tanto las completaría con ENCODING\n",
        "**id_auditor** 102674 tienen valor 0 que en todos los casos la decisión_médica fue APROBAR y los **dias_aprobados = dias_solicitados**\n",
        "por otra parte hay 3079 filas nAn donde sólo 1 tiene **dias_aprobados** y **decision_medica** como un indicio de que se trata de los casos que aún no han sido evaluados por un auditor medico\n",
        "**categoria_diagnostico** 158928 nAn pero tienen un diagnóstico y podría completarse con ENCODING\n",
        "**NO ENCUENTRO PATRON PARA motivo_rechazo**"
      ],
      "metadata": {
        "id": "zLWdWpGBKdqI"
      }
    },
    {
      "cell_type": "code",
      "source": [
        "#Detección de las variables con valor cero del dataset.\n",
        "cols = dfrelev[dfrelev == 0].count(axis=0)\n",
        "cols[cols > 0]"
      ],
      "metadata": {
        "id": "WxNbzEEa6PVq",
        "colab": {
          "base_uri": "https://localhost:8080/",
          "height": 200
        },
        "outputId": "df624ff4-ef71-4962-d3b7-acb80e4f43a1"
      },
      "execution_count": 1,
      "outputs": [
        {
          "output_type": "error",
          "ename": "NameError",
          "evalue": "ignored",
          "traceback": [
            "\u001b[0;31m---------------------------------------------------------------------------\u001b[0m",
            "\u001b[0;31mNameError\u001b[0m                                 Traceback (most recent call last)",
            "\u001b[0;32m<ipython-input-1-dd1d8a9a4b68>\u001b[0m in \u001b[0;36m<cell line: 2>\u001b[0;34m()\u001b[0m\n\u001b[1;32m      1\u001b[0m \u001b[0;31m#Detección de las variables con valor cero del dataset.\u001b[0m\u001b[0;34m\u001b[0m\u001b[0;34m\u001b[0m\u001b[0m\n\u001b[0;32m----> 2\u001b[0;31m \u001b[0mcols\u001b[0m \u001b[0;34m=\u001b[0m \u001b[0mdfrelev\u001b[0m\u001b[0;34m[\u001b[0m\u001b[0mdfrelev\u001b[0m \u001b[0;34m==\u001b[0m \u001b[0;36m0\u001b[0m\u001b[0;34m]\u001b[0m\u001b[0;34m.\u001b[0m\u001b[0mcount\u001b[0m\u001b[0;34m(\u001b[0m\u001b[0maxis\u001b[0m\u001b[0;34m=\u001b[0m\u001b[0;36m0\u001b[0m\u001b[0;34m)\u001b[0m\u001b[0;34m\u001b[0m\u001b[0;34m\u001b[0m\u001b[0m\n\u001b[0m\u001b[1;32m      3\u001b[0m \u001b[0mcols\u001b[0m\u001b[0;34m[\u001b[0m\u001b[0mcols\u001b[0m \u001b[0;34m>\u001b[0m \u001b[0;36m0\u001b[0m\u001b[0;34m]\u001b[0m\u001b[0;34m\u001b[0m\u001b[0;34m\u001b[0m\u001b[0m\n",
            "\u001b[0;31mNameError\u001b[0m: name 'dfrelev' is not defined"
          ]
        }
      ]
    },
    {
      "cell_type": "code",
      "source": [
        "#Detección de las variables con valor nAn del dataset.\n",
        "missing_values_count = dfrelev.isna().sum()\n",
        "missing_values_count"
      ],
      "metadata": {
        "id": "Mx2LTNe_78op"
      },
      "execution_count": null,
      "outputs": []
    },
    {
      "cell_type": "code",
      "source": [
        "# 3 Exploren si hay valores faltantes y/o nulos en el dataset.\n",
        "import missingno as msno\n",
        "len(dfrelev)\n",
        "print(len(dfrelev.dias_solicitados))\n",
        "print(len(dfrelev.tipo_licencia))\n",
        "\n",
        "#dfhospi = dfrelev[['dias_solicitados', 'tipo_licencia']].copy()\n",
        "\n",
        "msno.matrix(dfrelev ,figsize=(12, 6), fontsize=12, color=[0,0,0.2])\n",
        "\n",
        "#print(dfhospi['dias_solicitados'].isnull().sum())\n",
        "\n",
        "print(dfrelev['dias_solicitados'].isnull().sum())\n",
        "print(dfrelev['tipo_licencia'].isnull().sum())\n",
        "print(dfrelev['dias_solicitados'].describe() )\n",
        "print(dfrelev['tipo_licencia'].describe() )"
      ],
      "metadata": {
        "id": "fGzALfZQzQDM"
      },
      "execution_count": null,
      "outputs": []
    },
    {
      "cell_type": "markdown",
      "source": [
        "Se cuentan la cantidad de filas correspondientes a cada columna para tener un indicio de la cantidad de datos faltantes"
      ],
      "metadata": {
        "id": "7uYR4URkd8S6"
      }
    },
    {
      "cell_type": "code",
      "source": [
        "#dfrelev_recha = pd.DataFrame({\n",
        "#    'TIPO LIC': ['MÃ©dica', 'MÃ©dica por HospitalizaciÃ³n'],\n",
        "#    'DIAS SOLIC': [0]\n",
        "#})\n",
        "#freq = dfrelev_recha.groupby(['TIPO LIC']).count()\n",
        "#print(freq)"
      ],
      "metadata": {
        "id": "SLSbTAylGzBU"
      },
      "execution_count": null,
      "outputs": []
    },
    {
      "cell_type": "code",
      "source": [
        "# 3 Exploren si hay valores faltantes y/o nulos en el dataset.\n",
        "dfrelev.count()"
      ],
      "metadata": {
        "id": "0ky_HA06coNd"
      },
      "execution_count": null,
      "outputs": []
    },
    {
      "cell_type": "code",
      "source": [
        "dfrelev.sort_values(by='fecha_creacion', ascending=True).head(7)"
      ],
      "metadata": {
        "id": "Ci7AbsEgnBTM"
      },
      "execution_count": null,
      "outputs": []
    },
    {
      "cell_type": "code",
      "source": [
        "plt.figure(figsize=(10, 6))\n",
        "plt.boxplot(data= dfrelev[dfrelev.dias_aprobados <365] , x='dias_aprobados',)\n",
        "plt.show()\n"
      ],
      "metadata": {
        "id": "hVGnvmSR6EZ9"
      },
      "execution_count": null,
      "outputs": []
    },
    {
      "cell_type": "code",
      "source": [
        "#postings.boxplot(column='dias_aprobados', by='tipo_licencia')"
      ],
      "metadata": {
        "id": "c36a4bNd_MAE"
      },
      "execution_count": null,
      "outputs": []
    },
    {
      "cell_type": "markdown",
      "source": [
        "### Calculo la cantidad de días efectivamente licenciados ***REVISAR EL ALGORITMO ***"
      ],
      "metadata": {
        "id": "cn_uoxpKHB_S"
      }
    },
    {
      "cell_type": "code",
      "source": [
        "#4 CALCULO LA CANTIDAD DE DÍAS DE LA LICENCIA TOMADA.\n",
        "from datetime import datetime\n",
        "def days_between(row):\n",
        "    d1 = datetime.strptime('fecha_inicio', \"%Y-%m-%d\")\n",
        "    d2 = datetime.strptime('fecha_fin', \"%Y-%m-%d\")\n",
        "    return abs((d2 - d1).days)\n",
        "\n",
        "#def calculate_dias_licefect(row):\n",
        "#    fecha_inicio = pd.to_datetime(row['fecha_inicio'])\n",
        "#    fecha_fin = pd.to_datetime(row['fecha_fin'])\n",
        "#    return fecha_fin.year - fecha_inicio.year - ((fecha_fin.month, fecha_fin.day) < (fecha_inicio.month, fecha_inicio.day))\n",
        "\n",
        "if 'fecha_inicio' !=  data_string or 'fecha_fin' != data_string:\n",
        "    dfrelev['dias_lic_efectiva'] = dfrelev.apply(days_between, axis=1)\n",
        "dfrelev.dtypes\n",
        "\n",
        "dfrelev.info()"
      ],
      "metadata": {
        "id": "NYp20-rDHAlg"
      },
      "execution_count": null,
      "outputs": []
    },
    {
      "cell_type": "code",
      "source": [
        "#Para las columnas numéricas de días_solicitados y días_aprobados verificamos\n",
        "#si tienen valores en cero\n",
        "#Si el tipo de licencia es Hospitalaria la cantidad de días_solicitados será 0 hasta determinar el tiempo de internación\n",
        "#licencias = dfrelev.value_counts()\n",
        "dnosolicita = dfrelev['dias_solicitados'].value_counts()[0]\n",
        "khospital = dfrelev['tipo_licencia'].value_counts()['Médica por Hospitalización']\n",
        "\n",
        "#print(licencias, ' ', dnosolicita,' ', khospital)\n",
        "\n",
        "print(dnosolicita,' ',khospital)\n"
      ],
      "metadata": {
        "id": "riCtEdZzqdka"
      },
      "execution_count": null,
      "outputs": []
    },
    {
      "cell_type": "code",
      "source": [
        "# de los 427003 licencias aprobadas, hay 22487 que les otorgaron 0 día de licencia\n",
        "daprob = dfrelev['dias_aprobados'].value_counts()[>0]"
      ],
      "metadata": {
        "id": "BOYs18iTtWur"
      },
      "execution_count": null,
      "outputs": []
    },
    {
      "cell_type": "markdown",
      "source": [
        "## #4 CALCULO LA EDAD\n",
        "A partir de la fecha de nacimiento calcular la edad del colaborador que solicita la licencia."
      ],
      "metadata": {
        "id": "l0Ra9yR3Danv"
      }
    },
    {
      "cell_type": "code",
      "source": [
        "#4 CALCULO LA EDAD A partir de la fecha de nacimiento calcular la edad del colaborador que solicita la licencia.\n",
        "def calculate_age(row):\n",
        "    fecha_nacimiento = pd.to_datetime(row['fecha_nacimiento'])\n",
        "    fecha_inicio = pd.to_datetime(row['fecha_inicio'])\n",
        "    return fecha_inicio.year - fecha_nacimiento.year - ((fecha_inicio.month, fecha_inicio.day) < (fecha_nacimiento.month, fecha_nacimiento.day))\n",
        "\n",
        "dfrelev['edad'] = dfrelev.apply(calculate_age, axis=1)\n",
        "dfrelev.dtypes\n"
      ],
      "metadata": {
        "id": "mkAv92sa8hMC"
      },
      "execution_count": null,
      "outputs": []
    },
    {
      "cell_type": "code",
      "source": [
        "dfrelev[:3]\n"
      ],
      "metadata": {
        "id": "xkQ2Tjo6trvq"
      },
      "execution_count": null,
      "outputs": []
    },
    {
      "cell_type": "markdown",
      "source": [
        "#6 Realicen un análisis estadístico de cada una de las variables numéricas:\n",
        "Cantidad de datos, mínimo, máximo, media, mediana, varianza, desviación estándar, cuartil 1, cuartil 3, rango intercuartílico.\n",
        "    6.A) Elijan una o dos variables categóricas, repetir este análisis y sacar conclusiones.\n",
        "    6.B) ¿El tiempo es una variable influyente en las distribuciones de estas variables? Ayudarse de gráficos para contestar esta pregunta."
      ],
      "metadata": {
        "id": "7N4KWKB4LeBr"
      }
    },
    {
      "cell_type": "code",
      "source": [
        "dfrelev.shape"
      ],
      "metadata": {
        "id": "KVTB7UBX29BZ"
      },
      "execution_count": null,
      "outputs": []
    },
    {
      "cell_type": "code",
      "source": [
        "dfrelev.describe()"
      ],
      "metadata": {
        "collapsed": true,
        "id": "nCK5dnWl3HbU"
      },
      "execution_count": null,
      "outputs": []
    },
    {
      "cell_type": "code",
      "source": [],
      "metadata": {
        "id": "AjzKU-J93o2-"
      },
      "execution_count": null,
      "outputs": []
    },
    {
      "cell_type": "markdown",
      "source": [],
      "metadata": {
        "id": "Pb16n4qY3pWV"
      }
    },
    {
      "cell_type": "code",
      "source": [],
      "metadata": {
        "id": "rlUA_Iqa3p48"
      },
      "execution_count": null,
      "outputs": []
    },
    {
      "cell_type": "code",
      "source": [],
      "metadata": {
        "id": "nl9ZTlLt3yOf"
      },
      "execution_count": null,
      "outputs": []
    },
    {
      "cell_type": "code",
      "source": [
        "# ESTADÍSTICAS DE DATOS NUMÉRICOS **DIAS SOLICITADOS**\n",
        "\n",
        "\n",
        "import numpy as np\n",
        "\n",
        "\n",
        "\n",
        "print(dfrelev['dias_solicitados'].describe() )\n",
        "# dfrelev.apply(np.nanvar, axis=0) FALTA CALCULAR LA VARIANZA.."
      ],
      "metadata": {
        "id": "Cxs6fN-QNgFK"
      },
      "execution_count": null,
      "outputs": []
    },
    {
      "cell_type": "code",
      "source": [
        "# ESTADÍSTICAS DE DATOS NUMÉRICOS **DIAS APROBADOS**\n",
        "print(dfrelev['dias_aprobados'].describe() )\n",
        "# dfrelev.apply(np.nanvar, axis=0) FALTA CALCULAR LA VARIANZA.."
      ],
      "metadata": {
        "id": "JBmr5vAAS1id"
      },
      "execution_count": null,
      "outputs": []
    },
    {
      "cell_type": "code",
      "source": [
        "# ESTADÍSTICAS DE DATOS NUMÉRICOS **DIAS LICENCIA EFECTIVA**\n",
        "print(dfrelev['dias_lic_efectiva'].describe() )\n",
        "# dfrelev.apply(np.nanvar, axis=0) FALTA CALCULAR LA VARIANZA.."
      ],
      "metadata": {
        "id": "P36m6gOETNSu"
      },
      "execution_count": null,
      "outputs": []
    },
    {
      "cell_type": "code",
      "source": [
        "# ESTADÍSTICAS DE DATOS NUMÉRICOS **EDAD**\n",
        "print(dfrelev['edad'].describe() )\n",
        "# dfrelev.apply(np.nanvar, axis=0) FALTA CALCULAR LA VARIANZA.."
      ],
      "metadata": {
        "id": "kJf9dkZRTXmV"
      },
      "execution_count": null,
      "outputs": []
    }
  ]
}