{
 "cells": [
  {
   "attachments": {},
   "cell_type": "markdown",
   "metadata": {
    "id": "LYvAOR2VzHmW"
   },
   "source": [
    "# **Mentoría Ciencia de datos aplicada a la predicción de licencias médicas y comportamiento de los colaboradores**\n",
    "Trabajaremos con datos obtenidos de una plataforma de salud ocupacional con el **objetivo de predecir la carga de licencias médicas**. Se propone **realizar un análisis temporal a diferentes escalas**, e identificar las variables asociadas que **expliquen el número de licencias y/o diagnósticos involucrados**.\n",
    "## **Trabajo Práctico 1: Análisis y Visualización de Datos**\n",
    "\n",
    "---\n",
    "\n",
    "# Datos\n",
    "\n"
   ]
  },
  {
   "cell_type": "code",
   "execution_count": null,
   "metadata": {
    "id": "Xwdfo7z20TUK"
   },
   "outputs": [],
   "source": [
    "import io\n",
    "import matplotlib\n",
    "import matplotlib.pyplot as plt\n",
    "import numpy as np\n",
    "import pandas as pd\n",
    "import seaborn as sns\n",
    "import missingno as msno\n",
    "\n",
    "sns.set_context(\"talk\")"
   ]
  },
  {
   "attachments": {},
   "cell_type": "markdown",
   "metadata": {
    "id": "XY2Hl-Ma07Nn"
   },
   "source": [
    "## Lectura del dataset\n"
   ]
  },
  {
   "cell_type": "code",
   "execution_count": null,
   "metadata": {
    "id": "Vviv_sqXdR5W"
   },
   "outputs": [],
   "source": [
    "url = \"https://raw.githubusercontent.com/MentoriaDiploDatos/Presentacion/main/data.csv\"\n",
    "df = pd.read_csv(url, sep=\";\")"
   ]
  },
  {
   "attachments": {},
   "cell_type": "markdown",
   "metadata": {
    "id": "EbjL9Skdw_eG"
   },
   "source": [
    "### #1 **¿Cuáles son las columnas relevantes del dataset? **\n",
    "Selecciono las columnas más relevantes en base al objetivo:\n",
    "\n",
    "\n",
    "*   observar si existe un sobredimensionamiento en la cantidad de días solicitados en las licencias médicas\n",
    "*   el análisis debe ser temporal por lo que son importantes las fechas para realizarlo.\n",
    "\n",
    "Para lo cual, reviso la info general del DS (dataset) lo que me permite determinar el total de filas,\n",
    "los tipos de datos de cada columna,\n",
    "las columnas que no contienen dato (nAn)\n",
    "\n",
    "\n"
   ]
  },
  {
   "cell_type": "code",
   "execution_count": null,
   "metadata": {
    "id": "pXNgwmRfJgTN"
   },
   "outputs": [],
   "source": [
    "# Reviso la información gral. del dataset\n",
    "df.info()"
   ]
  },
  {
   "cell_type": "code",
   "execution_count": null,
   "metadata": {
    "id": "k2xWxjWOACtU"
   },
   "outputs": [],
   "source": [
    "df.columns"
   ]
  },
  {
   "attachments": {},
   "cell_type": "markdown",
   "metadata": {
    "id": "buTJRyXZ29ax"
   },
   "source": [
    "De la info recogida en el item 1 se observa que las fechas tienen tipo de dato \"object\" y lo modificaré para posteriormente realizar análisis de series de tiempo"
   ]
  },
  {
   "cell_type": "code",
   "execution_count": null,
   "metadata": {
    "id": "tdaOeie02d-x"
   },
   "outputs": [],
   "source": [
    "df[\"fecha_creacion\"] = pd.to_datetime(df[\"fecha_creacion\"])\n",
    "df[\"fecha_inicio\"] = pd.to_datetime(df[\"fecha_inicio\"])\n",
    "df[\"fecha_fin\"] = pd.to_datetime(df[\"fecha_fin\"])\n",
    "df[\"fecha_nacimiento\"] = pd.to_datetime(df[\"fecha_nacimiento\"])\n",
    "df.dtypes\n",
    "df.info()"
   ]
  },
  {
   "cell_type": "code",
   "execution_count": null,
   "metadata": {
    "id": "KaZ2y2aFAJjM"
   },
   "outputs": [],
   "source": [
    "# Construyo un dataset con las columnas relevantes\n",
    "relevant_columns = [\n",
    "    \"fecha_creacion\",\n",
    "    \"dias_solicitados\",\n",
    "    \"fecha_inicio\",\n",
    "    \"fecha_fin\",\n",
    "    \"diagnostico\",\n",
    "    \"id_diagnostico\",\n",
    "    \"fecha_nacimiento\",\n",
    "    \"genero\",\n",
    "    \"tipo_licencia\",\n",
    "    \"estado_civil\",\n",
    "    \"dias_aprobados\",\n",
    "    \"decision_medica\",\n",
    "    \"id_auditor\",\n",
    "    \"motivo_rechazo\",\n",
    "    \"categoria_diagnostico\",\n",
    "]\n",
    "dfrelev = df[relevant_columns]\n",
    "dfrelev[:3]"
   ]
  },
  {
   "attachments": {},
   "cell_type": "markdown",
   "metadata": {
    "id": "IgS5-YDbd1uy"
   },
   "source": [
    "### 2 *¿Qué tipo de variable es cada una?\n",
    "Asegurar que tengan el tipo de datos adecuado. Por ejemplo, para el caso de las fechas usar librería datetime para su conversión. En el paso anterior se realizó la transformación del tipo de dato de las fechas\n"
   ]
  },
  {
   "cell_type": "code",
   "execution_count": null,
   "metadata": {
    "id": "J2wV9bvz97Rs"
   },
   "outputs": [],
   "source": [
    "dfrelev.dtypes\n",
    "dfrelev.info()"
   ]
  },
  {
   "cell_type": "code",
   "execution_count": null,
   "metadata": {
    "id": "q2-KRYv9rvV8"
   },
   "outputs": [],
   "source": [
    "# ordeno el set de datos por fecha de creación\n",
    "dfrelev.sort_values(by=\"fecha_creacion\", ascending=True).head(7)"
   ]
  },
  {
   "attachments": {},
   "cell_type": "markdown",
   "metadata": {
    "id": "zLWdWpGBKdqI"
   },
   "source": [
    "## **3 Exploración del DataSet**\n",
    "Se revisa el DataSet para revisar si se detectan:\n",
    "**Valores faltantes**: aquellos datos que no se encuentran presentes en una variable o columna determinada, ya sea porque no se registraron o porque se perdieron.\n",
    "\n",
    "\n"
   ]
  },
  {
   "cell_type": "code",
   "execution_count": null,
   "metadata": {
    "id": "H4ZRU8rkrljJ"
   },
   "outputs": [],
   "source": [
    "# Se revisan los valores nulos (None o NaN)\n",
    "null_values_count = dfrelev.isnull().sum()\n",
    "null_values_count"
   ]
  },
  {
   "cell_type": "code",
   "execution_count": null,
   "metadata": {
    "id": "fGzALfZQzQDM"
   },
   "outputs": [],
   "source": [
    "# len(dfrelev)\n",
    "# print(len(dfrelev.dias_solicitados))\n",
    "# print(len(dfrelev.tipo_licencia))\n",
    "\n",
    "msno.matrix(dfrelev, figsize=(12, 6), fontsize=12, color=[0, 0, 0.2])\n",
    "\n",
    "# print(dfrelev['dias_solicitados'].isnull().sum())\n",
    "# print(dfrelev['tipo_licencia'].isnull().sum())\n",
    "# print(dfrelev['dias_solicitados'].describe() )\n",
    "# print(dfrelev['tipo_licencia'].describe() )"
   ]
  },
  {
   "attachments": {},
   "cell_type": "markdown",
   "metadata": {
    "id": "3qBOgE7PO3cl"
   },
   "source": [
    "Para encontrar valores **INCOMPLETOS o CORRUPTOS** se estudia y determinan rangos esperados o ciertos criteros que deben cumplir los valores de cada columna para imputar los correspondientes valores correctos con el método más adecuado o, en caso de ser posible, eliminar las filas con valores faltantes, incompletos o corruptos."
   ]
  },
  {
   "attachments": {},
   "cell_type": "markdown",
   "metadata": {
    "id": "YPJfrCjsQItC"
   },
   "source": []
  },
  {
   "cell_type": "code",
   "execution_count": null,
   "metadata": {
    "id": "Ci7AbsEgnBTM"
   },
   "outputs": [],
   "source": [
    "dfrelev.sort_values(by=\"fecha_creacion\", ascending=True).head(7)"
   ]
  },
  {
   "cell_type": "code",
   "execution_count": null,
   "metadata": {
    "id": "hVGnvmSR6EZ9"
   },
   "outputs": [],
   "source": [
    "plt.figure(figsize=(10, 6))\n",
    "plt.boxplot(\n",
    "    data=dfrelev[dfrelev.dias_aprobados < 365],\n",
    "    x=\"dias_aprobados\",\n",
    ")\n",
    "plt.show()"
   ]
  },
  {
   "attachments": {},
   "cell_type": "markdown",
   "metadata": {
    "id": "cn_uoxpKHB_S"
   },
   "source": [
    "### Calculo la cantidad de días de licencia que fueron  efectivamente autorizados"
   ]
  },
  {
   "cell_type": "code",
   "execution_count": null,
   "metadata": {
    "id": "NYp20-rDHAlg"
   },
   "outputs": [],
   "source": [
    "# 4 CALCULO LA CANTIDAD DE DÍAS EFECTIVAMENTE AUTORIZADOS DE LICENCIA\n",
    "def days_between(row):\n",
    "    d1 = pd.to_datetime(row[\"fecha_inicio\"], format=\"%Y-%m-%d\")\n",
    "    d2 = pd.to_datetime(row[\"fecha_fin\"], format=\"%Y-%m-%d\")\n",
    "    return abs((d2 - d1).days)\n",
    "\n",
    "\n",
    "dfrelev[\"dias_lic_efectiva\"] = dfrelev.apply(days_between, axis=1)"
   ]
  },
  {
   "attachments": {},
   "cell_type": "markdown",
   "metadata": {
    "id": "l0Ra9yR3Danv"
   },
   "source": [
    "## #4 CALCULO LA EDAD\n",
    "A partir de la fecha de nacimiento calcular la edad del colaborador que solicita la licencia."
   ]
  },
  {
   "cell_type": "code",
   "execution_count": null,
   "metadata": {
    "id": "mkAv92sa8hMC"
   },
   "outputs": [],
   "source": [
    "# 4 CALCULO LA EDAD A partir de la fecha de nacimiento calcular la edad del colaborador que solicita la licencia.\n",
    "def calculate_age(row):\n",
    "    fecha_nacimiento = pd.to_datetime(row[\"fecha_nacimiento\"])\n",
    "    fecha_inicio = pd.to_datetime(row[\"fecha_inicio\"])\n",
    "    return (\n",
    "        fecha_inicio.year\n",
    "        - fecha_nacimiento.year\n",
    "        - (\n",
    "            (fecha_inicio.month, fecha_inicio.day)\n",
    "            < (fecha_nacimiento.month, fecha_nacimiento.day)\n",
    "        )\n",
    "    )\n",
    "\n",
    "\n",
    "dfrelev[\"edad\"] = dfrelev.apply(calculate_age, axis=1)\n",
    "dfrelev.dtypes"
   ]
  },
  {
   "cell_type": "code",
   "execution_count": null,
   "metadata": {
    "id": "xkQ2Tjo6trvq"
   },
   "outputs": [],
   "source": [
    "dfrelev[:3]"
   ]
  },
  {
   "attachments": {},
   "cell_type": "markdown",
   "metadata": {
    "id": "7N4KWKB4LeBr"
   },
   "source": [
    "#6 Realicen un análisis estadístico de cada una de las variables numéricas:\n",
    "Cantidad de datos, mínimo, máximo, media, mediana, varianza, desviación estándar, cuartil 1, cuartil 3, rango intercuartílico.\n",
    "    6.A) Elijan una o dos variables categóricas, repetir este análisis y sacar conclusiones.\n",
    "    6.B) ¿El tiempo es una variable influyente en las distribuciones de estas variables? Ayudarse de gráficos para contestar esta pregunta."
   ]
  },
  {
   "cell_type": "code",
   "execution_count": null,
   "metadata": {
    "id": "KVTB7UBX29BZ"
   },
   "outputs": [],
   "source": [
    "dfrelev.shape"
   ]
  },
  {
   "cell_type": "code",
   "execution_count": null,
   "metadata": {
    "collapsed": true,
    "id": "nCK5dnWl3HbU"
   },
   "outputs": [],
   "source": [
    "dfrelev.describe()"
   ]
  },
  {
   "cell_type": "code",
   "execution_count": null,
   "metadata": {
    "id": "Cxs6fN-QNgFK"
   },
   "outputs": [],
   "source": [
    "# ESTADÍSTICAS DE DATOS NUMÉRICOS **DIAS SOLICITADOS**\n",
    "import numpy as np\n",
    "\n",
    "print(dfrelev[\"dias_solicitados\"].describe())\n",
    "# dfrelev.apply(np.nanvar, axis=0) FALTA CALCULAR LA VARIANZA.."
   ]
  },
  {
   "cell_type": "code",
   "execution_count": null,
   "metadata": {
    "id": "JBmr5vAAS1id"
   },
   "outputs": [],
   "source": [
    "# ESTADÍSTICAS DE DATOS NUMÉRICOS **DIAS APROBADOS**\n",
    "print(dfrelev[\"dias_aprobados\"].describe())\n",
    "# dfrelev.apply(np.nanvar, axis=0) FALTA CALCULAR LA VARIANZA.."
   ]
  },
  {
   "cell_type": "code",
   "execution_count": null,
   "metadata": {
    "id": "P36m6gOETNSu"
   },
   "outputs": [],
   "source": [
    "# ESTADÍSTICAS DE DATOS NUMÉRICOS **DIAS LICENCIA EFECTIVA**\n",
    "print(dfrelev[\"dias_lic_efectiva\"].describe())\n",
    "# dfrelev.apply(np.nanvar, axis=0) FALTA CALCULAR LA VARIANZA.."
   ]
  },
  {
   "cell_type": "code",
   "execution_count": null,
   "metadata": {
    "id": "kJf9dkZRTXmV"
   },
   "outputs": [],
   "source": [
    "# ESTADÍSTICAS DE DATOS NUMÉRICOS **EDAD**\n",
    "print(dfrelev[\"edad\"].describe())\n",
    "# dfrelev.apply(np.nanvar, axis=0) FALTA CALCULAR LA VARIANZA.."
   ]
  },
  {
   "attachments": {},
   "cell_type": "markdown",
   "metadata": {},
   "source": [
    "5) ¿Existen outliers en las variables seleccionadas?"
   ]
  },
  {
   "cell_type": "code",
   "execution_count": null,
   "metadata": {},
   "outputs": [],
   "source": [
    "def filter_extreme_rows(df, column_list):\n",
    "    # Iterate over the columns and filter out the rows with extreme values\n",
    "    for column in column_list:\n",
    "        q1 = df[column].quantile(0.25)\n",
    "        q3 = df[column].quantile(0.75)\n",
    "        iqr = q3 - q1\n",
    "        lower_bound = q1 - 3 * iqr\n",
    "        upper_bound = q3 + 3 * iqr\n",
    "        df = df[(df[column] >= lower_bound) & (df[column] <= upper_bound)]\n",
    "\n",
    "    return df\n",
    "\n",
    "\n",
    "# filtramos los valores extremos de las columnas numéricas\n",
    "print(f\"\"\"shape antes de filtrar: {dfrelev.shape}\"\"\")\n",
    "dfrelev = filter_extreme_rows(\n",
    "    dfrelev, [\"dias_solicitados\", \"dias_aprobados\", \"dias_lic_efectiva\", \"edad\"]\n",
    ")\n",
    "print(f\"\"\"shape después de filtrar: {dfrelev.shape}\"\"\")"
   ]
  },
  {
   "attachments": {},
   "cell_type": "markdown",
   "metadata": {
    "id": "2i7x6BOyRoKT"
   },
   "source": [
    "### ** 6.A) Elijan una o dos variables categóricas, repetir este análisis y sacar conclusiones.**"
   ]
  },
  {
   "cell_type": "code",
   "execution_count": null,
   "metadata": {
    "id": "hAjuX3w6R0y7"
   },
   "outputs": [],
   "source": [
    "# Se seleccionan las variables categóricas decision_medica y motivo_de_rechazo\n",
    "dfrelev.decision_medica.unique()"
   ]
  },
  {
   "cell_type": "code",
   "execution_count": null,
   "metadata": {
    "id": "ugvd2Xoidur6"
   },
   "outputs": [],
   "source": [
    "fig = plt.figure(figsize=(8, 4))  # se genera la figura y se define su tamaño\n",
    "sns.countplot(\n",
    "    x=dfrelev[\"decision_medica\"]\n",
    ")  # gráfico de conteos de la primer columna (decision_medica)\n",
    "plt.tick_params(axis=\"x\", labelrotation=75)\n",
    "plt.show()"
   ]
  },
  {
   "attachments": {},
   "cell_type": "markdown",
   "metadata": {
    "id": "aiaTt_R6Njq2"
   },
   "source": [
    "Las licencias rechazadas son mínimas en comparación con las aprobadas y las que figuran EDITAR_APROBAR."
   ]
  },
  {
   "cell_type": "code",
   "execution_count": null,
   "metadata": {
    "id": "ra5PIL1HYdeV"
   },
   "outputs": [],
   "source": [
    "dfrelev.motivo_rechazo.unique()\n",
    "\n",
    "dfrelev.loc[:, \"motivo_rechazo\"] = dfrelev.motivo_rechazo.replace(\n",
    "    {\n",
    "        \"Se aprueba la licencia\": \"lic.aprobada\",\n",
    "        \"La documentacion adjuntada no cumple requisitos\": \"Docum.no cumple req.\",\n",
    "        \"Se aprueba por menos dias\": \"Aprueba menos dias\",\n",
    "        \"Diagnostico no valido\": \"Diagnostico no valido\",\n",
    "        \"Motivos formales\": \"Motivos formales\",\n",
    "        \"Ausente a turno\": \"Ausente a turno\",\n",
    "        \"Otros motivos\": \"Otros motivos\",\n",
    "    }\n",
    ").fillna(False)"
   ]
  },
  {
   "cell_type": "code",
   "execution_count": null,
   "metadata": {
    "id": "o8pc3QXKhfbl"
   },
   "outputs": [],
   "source": [
    "fig = plt.figure(figsize=(8, 4))  # se genera la figura y se define su tamaño\n",
    "# sns.countplot(x=dfrelev.motivo_rechazo,orient=\"v\", color='steelblue') # gráfico de conteos de la segunda columna (decision_medica)\n",
    "sns.set_theme(style=\"whitegrid\")\n",
    "sns.countplot(x=dfrelev[\"motivo_rechazo\"])\n",
    "plt.tick_params(axis=\"x\", labelrotation=75)\n",
    "plt.show()"
   ]
  },
  {
   "attachments": {},
   "cell_type": "markdown",
   "metadata": {
    "id": "5F6CB7gXKmxv"
   },
   "source": [
    "Se observa que en la columna motivo_rechazo se incluyen valores que no corresponden a un rechazo Ej. licencia aprobada, o el caso de los false que corresponden a datos None o NaN"
   ]
  },
  {
   "attachments": {},
   "cell_type": "markdown",
   "metadata": {},
   "source": [
    "7) Representen gráficamente cada variable numérica eligiendo el gráfico que considere apropiado. Consideren la posibilidad de generar rangos de datos para su análisis y representación gráfica de las variables. \n",
    "\n",
    "    7.A) Repitan los gráficos agrupando por una o dos variables categóricas y sacar conclusiones."
   ]
  },
  {
   "cell_type": "code",
   "execution_count": null,
   "metadata": {},
   "outputs": [],
   "source": [
    "# Se crea una figura que contenga una cuadricula de 2 filas y 2 columnas para 4 gráficos\n",
    "fig, axes = plt.subplots(2, 2, figsize=(12, 8))\n",
    "\n",
    "# boxplot de dias_solicitados\n",
    "sns.boxplot(ax=axes[0, 0], data=dfrelev, x=\"dias_solicitados\", color=\"steelblue\")\n",
    "\n",
    "# boxplot de dias_aprobados\n",
    "sns.boxplot(ax=axes[0, 1], data=dfrelev, x=\"dias_aprobados\", color=\"steelblue\")\n",
    "\n",
    "# boxplot de dias_lic_efectiva\n",
    "sns.boxplot(ax=axes[1, 0], data=dfrelev, x=\"dias_lic_efectiva\", color=\"steelblue\")\n",
    "\n",
    "# histograma de edad\n",
    "sns.histplot(ax=axes[1, 1], data=dfrelev, x=\"edad\", color=\"steelblue\")"
   ]
  },
  {
   "cell_type": "code",
   "execution_count": null,
   "metadata": {},
   "outputs": [],
   "source": [
    "# Ahora repetimos los graficos pero agrupando por género\n",
    "fig, axes = plt.subplots(2, 2, figsize=(14, 8))\n",
    "\n",
    "# boxplot de dias_solicitados\n",
    "sns.boxplot(\n",
    "    ax=axes[0, 0], data=dfrelev, x=\"dias_solicitados\", y=\"genero\", color=\"steelblue\"\n",
    ")\n",
    "\n",
    "# boxplot de dias_aprobados\n",
    "sns.boxplot(\n",
    "    ax=axes[0, 1], data=dfrelev, x=\"dias_aprobados\", y=\"genero\", color=\"steelblue\"\n",
    ")\n",
    "\n",
    "# boxplot de dias_lic_efectiva\n",
    "sns.boxplot(\n",
    "    ax=axes[1, 0], data=dfrelev, x=\"dias_lic_efectiva\", y=\"genero\", color=\"steelblue\"\n",
    ")\n",
    "\n",
    "# histograma de edad\n",
    "sns.histplot(ax=axes[1, 1], data=dfrelev, x=\"edad\", hue=\"genero\", color=\"steelblue\")"
   ]
  },
  {
   "attachments": {},
   "cell_type": "markdown",
   "metadata": {},
   "source": [
    "8) Presenten una tabla de frecuencias y porcentajes para las variables categóricas estado civil y edad."
   ]
  },
  {
   "cell_type": "code",
   "execution_count": null,
   "metadata": {},
   "outputs": [],
   "source": [
    "# Frecuencias estado_civil\n",
    "freq_abs_estado_civil = dfrelev.estado_civil.value_counts()\n",
    "freq_rel_estado_civil = dfrelev.estado_civil.value_counts(normalize=True) * 100\n",
    "\n",
    "# Se crea un dataframe con las frecuencias absolutas y relativas\n",
    "df_freq_estado_civil = pd.DataFrame(\n",
    "    {\"freq_abs\": freq_abs_estado_civil, \"freq_rel\": freq_rel_estado_civil}\n",
    ")\n",
    "df_freq_estado_civil\n",
    "\n",
    "# Frecuencias genero\n",
    "freq_abs_genero = dfrelev.genero.value_counts()\n",
    "freq_rel_genero = dfrelev.genero.value_counts(normalize=True) * 100\n",
    "\n",
    "# Se crea un dataframe con las frecuencias absolutas y relativas\n",
    "df_freq_genero = pd.DataFrame(\n",
    "    {\"freq_abs\": freq_abs_genero, \"freq_rel\": freq_rel_genero}\n",
    ")\n",
    "df_freq_genero\n",
    "\n",
    "tabla_categoricas = (\n",
    "    pd.crosstab(\n",
    "        index=dfrelev.estado_civil, columns=dfrelev.genero, normalize=True, margins=True\n",
    "    ).round(2)\n",
    "    * 100\n",
    ")\n",
    "tabla_categoricas"
   ]
  },
  {
   "attachments": {},
   "cell_type": "markdown",
   "metadata": {},
   "source": [
    "9) Realicen un gráfico para representar la tabla construida en el punto 8."
   ]
  },
  {
   "cell_type": "code",
   "execution_count": null,
   "metadata": {},
   "outputs": [],
   "source": [
    "# Dropeamos registros donde All sea menor a 1 porciento\n",
    "tabla_categoricas = tabla_categoricas[tabla_categoricas[\"All\"] > 1]\n",
    "# Dropeamos columna All y graficamos\n",
    "tabla_categoricas.drop(\"All\", axis=1, inplace=False).plot(\n",
    "    kind=\"bar\",\n",
    "    figsize=(8, 6),\n",
    "    rot=0,\n",
    "    color=[\"steelblue\", \"orange\", \"green\"],\n",
    "    stacked=True,\n",
    ")\n",
    "\n",
    "# adjust plot size\n",
    "plt.rcParams[\"figure.figsize\"] = 14, 6\n",
    "plt.show()"
   ]
  }
 ],
 "metadata": {
  "colab": {
   "include_colab_link": true,
   "provenance": []
  },
  "kernelspec": {
   "display_name": "Python 3",
   "name": "python3"
  },
  "language_info": {
   "codemirror_mode": {
    "name": "ipython",
    "version": 3
   },
   "file_extension": ".py",
   "mimetype": "text/x-python",
   "name": "python",
   "nbconvert_exporter": "python",
   "pygments_lexer": "ipython3",
   "version": "3.11.4"
  }
 },
 "nbformat": 4,
 "nbformat_minor": 0
}
