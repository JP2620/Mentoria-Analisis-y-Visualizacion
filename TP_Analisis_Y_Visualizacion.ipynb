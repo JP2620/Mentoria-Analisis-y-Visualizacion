{
 "cells": [
  {
   "attachments": {},
   "cell_type": "markdown",
   "id": "44f66ff3-ab4f-4296-abe2-af5a46647466",
   "metadata": {},
   "source": [
    "# Mentoría Ciencia de datos aplicada a la predicción de licencias médicas y comportamiento de los colaboradores\n",
    "\n",
    "# Trabajo Práctico 1: Análisis y Visualización de Datos\n",
    "\n",
    "Trabajar con el csv denominado data.csv y resolver las siguientes consignas:\n",
    "\n",
    "1) ¿Cuáles son las columnas relevantes del dataset?\n",
    "2) ¿Qué tipo de variable es cada una? Asegurar que tengan el tipo de datos adecuado. Por ejemplo, para el caso de las fechas usar libreria datetime para su conversión.\n",
    "3) Exploren si hay valores faltantes y/o nulos en el dataset.\n",
    "4) A partir de la fecha de nacimiento calcular la edad del colaborador que solicita la licencia. \n",
    "\n",
    "5) ¿Existen outliers en las variables seleccionadas?\n",
    "6) Realicen un análisis estadístico de cada una de las variables numéricas: Cantidad de datos, mínimo, máximo, media, mediana, varianza, desviación estándar, cuartil 1, cuartil 3, rango intercuartílico.\n",
    "\n",
    "    6.A) Elijan una o dos variables categóricas, repetir este análisis y sacar conclusiones.\n",
    "    \n",
    "    6.B) ¿El tiempo es una variable influyente en las distribuciones de estas variables? Ayudarse de gráficos para contestar esta pregunta. \n",
    "    \n",
    "7) Representen gráficamente cada variable numérica eligiendo el gráfico que considere apropiado. Consideren la posibilidad de generar rangos de datos para su análisis y representación gráfica de las variables. \n",
    "\n",
    "    7.A) Repitan los gráficos agrupando por una o dos variables categóricas y sacar conclusiones.\n",
    "    \n",
    "8) Presenten una tabla de frecuencias y porcentajes para las variables categóricas estado civil y edad.\n",
    "9) Realicen un gráfico para representar la tabla construida en el punto 7.\n",
    "10) En todas las consignas saquen conclusiones de lo observado. "
   ]
  },
  {
   "attachments": {},
   "cell_type": "markdown",
   "id": "25168154-b5dd-414d-8305-c7688c83c88d",
   "metadata": {},
   "source": [
    "## Carga del dataset\n",
    "\n",
    "Se carga el dataset de solicitudes de licencias médicas."
   ]
  },
  {
   "cell_type": "code",
   "execution_count": null,
   "id": "1995dc9f-28f4-4e10-9b81-d5b2a32a5dd8",
   "metadata": {},
   "outputs": [],
   "source": [
    "import pandas as pd\n",
    "import matplotlib.pyplot as plt\n",
    "import seaborn as sns\n",
    "\n",
    "pd.options.mode.chained_assignment = None\n",
    "\n",
    "url = 'https://raw.githubusercontent.com/MentoriaDiploDatos/Presentacion/main/data.csv'\n",
    "df = pd.read_csv(url, sep=';')"
   ]
  },
  {
   "attachments": {},
   "cell_type": "markdown",
   "id": "2b343d84",
   "metadata": {},
   "source": [
    "## 1. Columnas relevantes\n",
    "\n",
    "Se seleccionan las columnas del dataset relevantes para el siguiente planteo:\n",
    "\n",
    "> ¿existe un sobredimensionamiento en la cantidad de días solicitados en las licencias médicas?\n",
    "\n",
    "Asociado a este planteo, se presume que la dimensión temporal va a ser relevante por lo que también se incluirán columnas de fecha en el análisis."
   ]
  },
  {
   "attachments": {},
   "cell_type": "markdown",
   "id": "0d7d906b",
   "metadata": {},
   "source": [
    "### a) Exploración inicial del dataset\n",
    "\n",
    "Se realiza una primer exploración del dataset para conocer su estructura:\n",
    " - dimensión (filas y columnas)\n",
    " - filas de ejemplo"
   ]
  },
  {
   "cell_type": "code",
   "execution_count": null,
   "id": "777e93d6",
   "metadata": {},
   "outputs": [],
   "source": [
    "df.shape"
   ]
  },
  {
   "cell_type": "code",
   "execution_count": null,
   "id": "709c8961",
   "metadata": {},
   "outputs": [],
   "source": [
    "df.head(5)"
   ]
  },
  {
   "attachments": {},
   "cell_type": "markdown",
   "id": "0dddc0dd",
   "metadata": {},
   "source": [
    "### b) Selección de columnas relevantes\n",
    "\n",
    "De las columnas listadas se seleccionan las siguientes:"
   ]
  },
  {
   "cell_type": "code",
   "execution_count": null,
   "id": "a6a48e75",
   "metadata": {},
   "outputs": [],
   "source": [
    "# se crea un dataset con las columnas relevantes\n",
    "relevant_columns = ['fecha_creacion', 'dias_solicitados', 'fecha_inicio', 'fecha_fin', 'diagnostico',\n",
    "                    'id_diagnostico', 'fecha_nacimiento', 'genero', 'tipo_licencia', 'estado_civil', \n",
    "                    'dias_aprobados', 'decision_medica', 'id_auditor', 'motivo_rechazo', 'categoria_diagnostico']\n",
    "relev_df = df[relevant_columns]\n",
    "relev_df.head()"
   ]
  },
  {
   "attachments": {},
   "cell_type": "markdown",
   "id": "dbbc48d0",
   "metadata": {},
   "source": [
    "## 2. Tipos de datos\n",
    "\n",
    "Se analiza el tipo de datos de las columnas seleccionadas"
   ]
  },
  {
   "cell_type": "code",
   "execution_count": null,
   "id": "626e1970",
   "metadata": {},
   "outputs": [],
   "source": [
    "relev_df.dtypes"
   ]
  },
  {
   "attachments": {},
   "cell_type": "markdown",
   "id": "b5c9721f",
   "metadata": {},
   "source": [
    "### a) Transformación de columnas de tipo fecha\n",
    "\n",
    "Se comprueba que las variables de fecha tienen tipo *object*; se decide convertir dichas variables en tipo *datetime*."
   ]
  },
  {
   "cell_type": "code",
   "execution_count": null,
   "id": "acb1b809",
   "metadata": {},
   "outputs": [],
   "source": [
    "relev_df['fecha_creacion'] = pd.to_datetime(relev_df['fecha_creacion'])\n",
    "relev_df['fecha_inicio'] = pd.to_datetime(relev_df['fecha_inicio'])\n",
    "relev_df['fecha_fin'] = pd.to_datetime(relev_df['fecha_fin'])\n",
    "relev_df['fecha_nacimiento'] = pd.to_datetime(relev_df['fecha_nacimiento'])\n",
    "\n",
    "relev_df.dtypes"
   ]
  },
  {
   "attachments": {},
   "cell_type": "markdown",
   "id": "3b874ec2",
   "metadata": {},
   "source": [
    "### b) Tipos de variables\n",
    "\n",
    "Las variables seleccionadas se dividen en:\n",
    "\n",
    "- **categóricas nominales**: *diagnostico*, *genero*, *tipo_licencia*, *estado_civil*, *decision_medica*, *id_auditor*, *motivo_rechazo*, *id_diagnostico*, *categoria_diagnostico*\n",
    "- **numéricas discretas**: *fecha_creacion*, *dias_solicitados*, *fecha_inicio*, *fecha_fin*, *fecha_nacimiento*, *dias_aprobados*\n",
    "\n",
    "> Nota: las variables de tipo fecha podrían ser consideradas tanto de tipo discreto como de tipo continuo, sin embargo, serán consideradas como discretas.  "
   ]
  },
  {
   "attachments": {},
   "cell_type": "markdown",
   "id": "7804b19a",
   "metadata": {},
   "source": [
    "## 3. Valores faltantes y/o nulos\n",
    "\n",
    "Se explora el dataset para buscar **valores faltantes** (datos que no se encuentran presentes en una variable o columna determinada, ya sea porque no se registraron o porque se perdieron)."
   ]
  },
  {
   "cell_type": "code",
   "execution_count": null,
   "id": "18f0ef78",
   "metadata": {},
   "outputs": [],
   "source": [
    "# se identifican los valores nulos (None o NaN)\n",
    "relev_df.isnull().sum()"
   ]
  },
  {
   "cell_type": "code",
   "execution_count": null,
   "id": "3f875d69",
   "metadata": {},
   "outputs": [],
   "source": [
    "import missingno as msno\n",
    "\n",
    "msno.bar(relev_df,figsize=(12, 6), sort=\"ascending\",fontsize=12, color='orange')\n",
    "msno.matrix(relev_df,figsize=(12, 6), fontsize=12, color=[0,0,0.2])\n",
    "msno.heatmap(relev_df,figsize=(12, 6), fontsize=12)"
   ]
  },
  {
   "attachments": {},
   "cell_type": "markdown",
   "id": "80c6cd9a",
   "metadata": {},
   "source": [
    "El uso de la librería *missingno* nos revela valores faltantes en las siguientes columnas:\n",
    "\n",
    "- fecha_fin\n",
    "- decision_medica\n",
    "- dias_aprobados\n",
    "- id_auditor\n",
    "- dias_solicitados\n",
    "- id_diagnostico\n",
    "- categoria_diagnostico\n",
    "- motivo_rechazo"
   ]
  },
  {
   "attachments": {},
   "cell_type": "markdown",
   "id": "282719d7",
   "metadata": {},
   "source": [
    "### a) Registros sin auditar\n",
    "\n",
    "El análisis previo nos permite identificar un conjunto de variables con valores faltantes con una correlación total (corr=1). Estas variables son:\n",
    "\n",
    " - id_auditor\n",
    " - decision_medica\n",
    " - dias_aprobados\n",
    "\n",
    " Se observa que en el caso que un valor falta en una columna, falta en las otras; esto podría deberse a que los tres datos se completan cuando la solicitud es auditada; la ausencia de valores podría indicar que los registros no fueron auditados.\n",
    "\n",
    " La solución propuesta es eliminar las filas sin auditar, ya que no contribuyen a resolver la pregunta planteada inicialmente."
   ]
  },
  {
   "attachments": {},
   "cell_type": "markdown",
   "id": "259e46f7",
   "metadata": {},
   "source": [
    "### b) Registros sin diagnóstico\n",
    "\n",
    "También es posible identificar un segundo conjunto de variables con valores faltantes con una correlación alta (corr>0.7). Estas variables son:\n",
    "\n",
    " - id_diagnostico\n",
    " - categoria_diagnostico\n",
    " - motivo_rechazo\n",
    "\n",
    "En este caso se observa que la ausencia de valores en estas columnas se ubica entre un 40% y un 60% de los valores.\n",
    "\n",
    "Por el alto grado de correlación se descarta que se trate de valores faltantes completamenta al azar (MCAR). Se recomienda analizar con más detalle los valores faltantes para identificar posibles patrones."
   ]
  },
  {
   "attachments": {},
   "cell_type": "markdown",
   "id": "23cc3964",
   "metadata": {},
   "source": [
    "### c) Calculo la cantidad de días de licencia que fueron  efectivamente autorizados"
   ]
  },
  {
   "cell_type": "code",
   "execution_count": null,
   "id": "d1908d43",
   "metadata": {},
   "outputs": [],
   "source": [
    "# 4 CALCULO LA CANTIDAD DE DÍAS EFECTIVAMENTE AUTORIZADOS DE LICENCIA\n",
    "def days_between(row):\n",
    "    d1 = pd.to_datetime(row[\"fecha_inicio\"], format=\"%Y-%m-%d\")\n",
    "    d2 = pd.to_datetime(row[\"fecha_fin\"], format=\"%Y-%m-%d\")\n",
    "    return abs((d2 - d1).days)\n",
    "\n",
    "\n",
    "relev_df[\"dias_lic_efectiva\"] = relev_df.apply(days_between, axis=1)"
   ]
  },
  {
   "attachments": {},
   "cell_type": "markdown",
   "id": "2a63f0bc",
   "metadata": {},
   "source": [
    "## 4. Nueva columna edad\n",
    "\n",
    "Se agrega al dataset una nueva columna edad tomando como dato base la fecha de nacimiento del solicitante. "
   ]
  },
  {
   "cell_type": "code",
   "execution_count": null,
   "id": "3db6bc84",
   "metadata": {},
   "outputs": [],
   "source": [
    "def calculate_age(row):\n",
    "    fecha_nacimiento = row['fecha_nacimiento']\n",
    "    fecha_inicio = row['fecha_inicio']\n",
    "    return fecha_inicio.year - fecha_nacimiento.year - ((fecha_inicio.month, fecha_inicio.day) < (fecha_nacimiento.month, fecha_nacimiento.day))\n",
    "\n",
    "relev_df['edad'] = relev_df.apply(calculate_age, axis=1)\n",
    "relev_df.head()"
   ]
  },
  {
   "attachments": {},
   "cell_type": "markdown",
   "id": "fd7a65ac",
   "metadata": {},
   "source": [
    "## 5. Outliers\n",
    "\n",
    "Se buscan valores atípicos en las columnas seleccionadas mediante exploración visual."
   ]
  },
  {
   "attachments": {},
   "cell_type": "markdown",
   "id": "4c05344e",
   "metadata": {},
   "source": [
    "### a) Variables numéricas de tipo fecha\n",
    "\n",
    "Entre las variables numéricas se analizarán primeramente las variables de tipo fecha: *fecha_creacion*, *fecha_inicio*, *fecha_fin* y *fecha_nacimiento*"
   ]
  },
  {
   "cell_type": "code",
   "execution_count": null,
   "id": "6208484b",
   "metadata": {},
   "outputs": [],
   "source": [
    "pd.plotting.register_matplotlib_converters()\n",
    "\n",
    "figure, axis = plt.subplots(2, 2, figsize=(12, 6))\n",
    "\n",
    "axis[0, 0].hist(relev_df['fecha_creacion'], bins=24)\n",
    "axis[0, 0].set_title(\"fecha_creacion\")\n",
    "\n",
    "axis[0, 1].hist(relev_df['fecha_nacimiento'], bins=24)\n",
    "axis[0, 1].set_title(\"fecha_nacimiento\")\n",
    "\n",
    "axis[1, 0].hist(relev_df['fecha_inicio'], bins=24)\n",
    "axis[1, 0].set_title(\"fecha_inicio\")\n",
    "\n",
    "axis[1, 1].hist(relev_df['fecha_fin'], bins=24)\n",
    "axis[1, 1].set_title(\"fecha_fin\")\n",
    "\n"
   ]
  },
  {
   "attachments": {},
   "cell_type": "markdown",
   "id": "80ed0661",
   "metadata": {},
   "source": [
    "#### i) fecha_creacion\n",
    "\n",
    "Se conocía de antemano que el dataset correspondía a solicitudes realizadas durante un período de dos años, y esto se comprueba en el histograma.\n",
    "\n",
    "> No se detectan valores atípicos"
   ]
  },
  {
   "attachments": {},
   "cell_type": "markdown",
   "id": "24e026d6",
   "metadata": {},
   "source": [
    "#### ii) fecha_nacimiento\n",
    "\n",
    "Este campo debería reflejar la fecha de nacimiento de los solicitantes al momento de realizar la solicitud de licencia; si se considera que los solicitantes son trabajadores que cumplen con las leyes argentinas, el rango de edad de los solicitantes incluidos en el dataset deberían tener una edad entre 18 y 65 años, es decir una fecha de nacimiento posterior a enero de 1955 (65 años antes a la menor fecha de creación del dataset), y anterior a diciembre de 2004 (18 años antes a la mayor fecha de creación del dataset).\n",
    "\n",
    "También se considera que en el punto 2.a) se realizó una transformación de la variable (conversión a tipo datetime), pero como también pudo comprobarse en el punto 3) no hay valores faltantes en la columna, por lo tanto no hay riesgo de que la transformación haya introducido valores atípicos.\n",
    "\n",
    "Se comprueba observando valores mínimos y máximos y presentándolos de manera ordenada que hay valores atípicos.\n",
    "\n",
    "> Se detectan valores atípicos anteriores a la fecha de nacimiento más antigua posible.\n",
    "\n",
    "Se recomienda **investigar con el proveedor del dataset si existe alguna otro atributo en la base de datos (como por ejemplo el número de documento del solicitante) que permita inferir la fecha de nacimiento**. Si no es así, se recomienda **anular los valores para el dato *fecha_nacimiento* y luego imputarles un valor utilizando algún estadístico**."
   ]
  },
  {
   "cell_type": "code",
   "execution_count": null,
   "id": "df458114",
   "metadata": {},
   "outputs": [],
   "source": [
    "print(\"Valor mínimo: \", relev_df['fecha_nacimiento'].min(), \" , Valor máximo: \", relev_df['fecha_nacimiento'].max())\n",
    "relev_df['fecha_nacimiento'].sort_values()"
   ]
  },
  {
   "attachments": {},
   "cell_type": "markdown",
   "id": "5c39ee8f",
   "metadata": {},
   "source": [
    "#### iii) fecha_inicio\n",
    "\n",
    "Este campo debería reflejar el inicio de las licencias médicas aprobadas; si se considera que las solicitudes del dataset tienen fecha de creación a partir de enero de 2021 y hasta diciembre de 2022, las fechas de inicio de licencias aprobadas deberían ser cercanas a las fechas de creación.\n",
    "Se entiende que la fecha de inicio de una licencia puede ser anterior a la fecha de creación de la solicitud (es posible que una licencia médica se haya aprobado usando un canal de comunicación diferente al sistema de gestión de licencias, y que la carga de la misma se haya realizado a posteriori). Aún así, y dando un período de seguridad de seis meses entre el inicio de la licencia y el registro de la misma, se observan fechas de inicio que no corresponden a los valores esperados.\n",
    "\n",
    "También se considera que en el punto 2.a) se realizó una transformación de la variable (conversión a tipo datetime), pero como también pudo comprobarse en el punto 3) no hay valores faltantes en la columna, por lo tanto no hay riesgo de que la transformación haya introducido valores atípicos.\n",
    "\n",
    "Esto se comprueba observando valores mínimos y máximos y presentándolos de manera ordenada.\n",
    "\n",
    "> Se detectan valores atípicos anteriores a la fecha de creación más antigua (aún considerando el período de seguridad de seis meses)\n",
    "\n",
    "Se recomienda **investigar con el proveedor del dataset si las fechas de inicio de licencias detectadas como valores atípicos corresponden a casos reales o no**. "
   ]
  },
  {
   "cell_type": "code",
   "execution_count": null,
   "id": "697d14bc",
   "metadata": {},
   "outputs": [],
   "source": [
    "print(\"Valor mínimo: \", relev_df['fecha_inicio'].min(), \" , Valor máximo: \", relev_df['fecha_inicio'].max())\n",
    "relev_df['fecha_inicio'].sort_values()"
   ]
  },
  {
   "attachments": {},
   "cell_type": "markdown",
   "id": "61e09e1d",
   "metadata": {},
   "source": [
    "#### iv) fecha_fin\n",
    "\n",
    "Este campo debería reflejar el fin de las licencias médicas aprobadas. \n",
    "\n",
    "Se desconoce si existe un límite máximo en la cantidad de días de licencia que pueden otorgarse; también se desconoce si se registran solicitudes de licencias que ya hayan finalizado (fecha de creación mayor a la fecha de fin de la misma); aún así, y tal como se analizó para el dato *fecha_inicio*, se considera que si las solicitudes del dataset tienen fecha de creación a partir de enero de 2021 y hasta diciembre de 2022, entonces las fechas de fin de licencias aprobadas deberían ser cercanas a las fechas de creación.\n",
    "Si se mantiene el supuesto del punto anterior que la fecha de inicio de una licencia puede ser anterior a la fecha de creación de la solicitud con un período de seguridad de seis meses entre el inicio de la licencia y el registro de la misma, entonces las fechas de finalización también deberían cumplir ese criterio.\n",
    "\n",
    "También se considera que en el punto 2.a) se realizó una transformación de la variable (conversión a tipo datetime); pero, aunque hay un solo valor faltante en la columna como pudo verse en el punto 3), la conversión aplicada no modificó el valor nulo, por lo tanto no hay riesgo de que la transformación haya introducido valores atípicos.\n",
    "\n",
    "No obstante, y a pesar de todas las consideraciones realizadas, se observan fechas de fin que no corresponden a los valores esperados.\n",
    "\n",
    "Esto se comprueba observando valores mínimos y máximos y presentándolos de manera ordenada.\n",
    "\n",
    "> Se detectan valores atípicos anteriores a la fecha de creación más antigua\n",
    "\n",
    "Se recomienda **investigar con el proveedor del dataset si las fechas de inicio de licencias detectadas como valores atípicos corresponden a casos reales o no**. "
   ]
  },
  {
   "cell_type": "code",
   "execution_count": null,
   "id": "3ac3cd08",
   "metadata": {},
   "outputs": [],
   "source": [
    "print(\"Valor mínimo: \", relev_df['fecha_fin'].dropna().min(), \" , Valor máximo: \", relev_df['fecha_fin'].dropna().max())\n",
    "relev_df['fecha_fin'].dropna().sort_values()"
   ]
  },
  {
   "attachments": {},
   "cell_type": "markdown",
   "id": "751ee86f",
   "metadata": {},
   "source": [
    "### b) Variables numéricas de tipo entero\n",
    "\n",
    "Las variables numéricas de tipo entero que se analizarán son: *dias_solicitados* y *dias_aprobados*. "
   ]
  },
  {
   "cell_type": "code",
   "execution_count": null,
   "id": "3dcd4afe",
   "metadata": {},
   "outputs": [],
   "source": [
    "sns.boxplot(relev_df[['dias_solicitados', 'dias_aprobados']], orient=\"h\", palette=\"Set2\")\n",
    "sns.set(rc={'figure.figsize':(20,5)})"
   ]
  },
  {
   "attachments": {},
   "cell_type": "markdown",
   "id": "e821860b",
   "metadata": {},
   "source": [
    "Las distribuciones de las dos variables están sesgadas a la derecha, y si bien hay valores alejados que analíticamente podrían considerarse como atípicos (distancias mayores a 3 veces el rango inter-cuartílico desde el percentil Q3), se desconoce si existe un límite máximo en la cantidad de días de licencia que pueden solicitarse y aprobararse.\n",
    "\n",
    "> Se detectan valores atípicos (desde el punto de vista analítico)\n",
    "\n",
    "Se recomienda **investigar con el proveedor del dataset si las cantidades de días solicitadas y aprobadas detectadas como valores atípicos corresponden a casos reales o no**. "
   ]
  },
  {
   "attachments": {},
   "cell_type": "markdown",
   "id": "1aaaf37c",
   "metadata": {},
   "source": [
    "## 6. Descripción analítica de variables\n",
    "\n",
    "Se realiza una descripción estadística de las siguientes variables numéricas y categóricas:\n",
    " - *fecha_creacion*\n",
    " - *fecha_nacimiento*\n",
    " - *fecha_inicio*\n",
    " - *fecha_fin*\n",
    " - *dias_solicitados*\n",
    " - *dias_aprobados*\n",
    " - *genero*\n",
    " - *diagnostico*\n"
   ]
  },
  {
   "attachments": {},
   "cell_type": "markdown",
   "id": "50ec171b",
   "metadata": {},
   "source": [
    "### a) fecha_creacion"
   ]
  },
  {
   "cell_type": "code",
   "execution_count": null,
   "id": "dd511714",
   "metadata": {},
   "outputs": [],
   "source": [
    "fecha_creacion_stats = pd.Series(relev_df['fecha_creacion'].to_numpy('datetime64'))\n",
    "print(\"Count:  \", fecha_creacion_stats.count())\n",
    "print(\"Min:    \", fecha_creacion_stats.min().strftime(\"%Y-%m-%d\"))\n",
    "print(\"Max:    \", fecha_creacion_stats.max().strftime(\"%Y-%m-%d\"))\n",
    "print(\"Median: \", fecha_creacion_stats.median().strftime(\"%Y-%m-%d\"))\n",
    "print(\"Mean:   \", fecha_creacion_stats.mean().strftime(\"%Y-%m-%d\"))\n",
    "print(\"Q1:     \", fecha_creacion_stats.quantile(0.25).strftime(\"%Y-%m-%d\"))\n",
    "print(\"Q3:     \", fecha_creacion_stats.quantile(0.75).strftime(\"%Y-%m-%d\"))\n",
    "print(\"IQR   : \", (fecha_creacion_stats.quantile(0.75) - fecha_creacion_stats.quantile(0.25)).days, \"d\")\n",
    "\n"
   ]
  },
  {
   "attachments": {},
   "cell_type": "markdown",
   "id": "db062226",
   "metadata": {},
   "source": [
    "### b) fecha_nacimiento"
   ]
  },
  {
   "cell_type": "code",
   "execution_count": null,
   "id": "e0957101",
   "metadata": {},
   "outputs": [],
   "source": [
    "fecha_nacimiento_stats = pd.Series(relev_df['fecha_nacimiento'].to_numpy('datetime64'))\n",
    "print(\"Count:  \", fecha_nacimiento_stats.count())\n",
    "print(\"Min:    \", fecha_nacimiento_stats.min().strftime(\"%Y-%m-%d\"))\n",
    "print(\"Max:    \", fecha_nacimiento_stats.max().strftime(\"%Y-%m-%d\"))\n",
    "print(\"Median: \", fecha_nacimiento_stats.median().strftime(\"%Y-%m-%d\"))\n",
    "print(\"Mean:   \", fecha_nacimiento_stats.mean().strftime(\"%Y-%m-%d\"))\n",
    "print(\"Q1:     \", fecha_nacimiento_stats.quantile(0.25).strftime(\"%Y-%m-%d\"))\n",
    "print(\"Q3:     \", fecha_nacimiento_stats.quantile(0.75).strftime(\"%Y-%m-%d\"))\n",
    "print(\"IQR   : \", (fecha_nacimiento_stats.quantile(0.75) - fecha_nacimiento_stats.quantile(0.25)).days, \"d\")"
   ]
  },
  {
   "attachments": {},
   "cell_type": "markdown",
   "id": "0b9d1d27",
   "metadata": {},
   "source": [
    "### c) fecha_inicio"
   ]
  },
  {
   "cell_type": "code",
   "execution_count": null,
   "id": "e73d98c5",
   "metadata": {},
   "outputs": [],
   "source": [
    "fecha_inicio_stats = pd.Series(relev_df['fecha_inicio'].to_numpy('datetime64'))\n",
    "print(\"Count:  \", fecha_inicio_stats.count())\n",
    "print(\"Min:    \", fecha_inicio_stats.min().strftime(\"%Y-%m-%d\"))\n",
    "print(\"Max:    \", fecha_inicio_stats.max().strftime(\"%Y-%m-%d\"))\n",
    "print(\"Median: \", fecha_inicio_stats.median().strftime(\"%Y-%m-%d\"))\n",
    "print(\"Mean:   \", fecha_inicio_stats.mean().strftime(\"%Y-%m-%d\"))\n",
    "print(\"Q1:     \", fecha_inicio_stats.quantile(0.25).strftime(\"%Y-%m-%d\"))\n",
    "print(\"Q3:     \", fecha_inicio_stats.quantile(0.75).strftime(\"%Y-%m-%d\"))\n",
    "print(\"IQR   : \", (fecha_inicio_stats.quantile(0.75) - fecha_inicio_stats.quantile(0.25)).days, \"d\")"
   ]
  },
  {
   "attachments": {},
   "cell_type": "markdown",
   "id": "b83a1807",
   "metadata": {},
   "source": [
    "### d) fecha_fin"
   ]
  },
  {
   "cell_type": "code",
   "execution_count": null,
   "id": "ec6cca94",
   "metadata": {},
   "outputs": [],
   "source": [
    "fecha_fin_stats = pd.Series(relev_df['fecha_fin'].dropna().to_numpy('datetime64'))\n",
    "print(\"Count:  \", fecha_fin_stats.count())\n",
    "print(\"Min:    \", fecha_fin_stats.min().strftime(\"%Y-%m-%d\"))\n",
    "print(\"Max:    \", fecha_fin_stats.max().strftime(\"%Y-%m-%d\"))\n",
    "print(\"Median: \", fecha_fin_stats.median().strftime(\"%Y-%m-%d\"))\n",
    "print(\"Mean:   \", fecha_fin_stats.mean().strftime(\"%Y-%m-%d\"))\n",
    "print(\"Q1:     \", fecha_fin_stats.quantile(0.25).strftime(\"%Y-%m-%d\"))\n",
    "print(\"Q3:     \", fecha_fin_stats.quantile(0.75).strftime(\"%Y-%m-%d\"))\n",
    "print(\"IQR   : \", (fecha_fin_stats.quantile(0.75) - fecha_fin_stats.quantile(0.25)).days, \"d\")"
   ]
  },
  {
   "attachments": {},
   "cell_type": "markdown",
   "id": "9f1a2879",
   "metadata": {},
   "source": [
    "### e) dias_solicitados"
   ]
  },
  {
   "cell_type": "code",
   "execution_count": null,
   "id": "71f19fcc",
   "metadata": {},
   "outputs": [],
   "source": [
    "dias_solicitados_stats = pd.Series(relev_df['dias_solicitados'])\n",
    "print(\"Count:  \", dias_solicitados_stats.count())\n",
    "print(\"Min:    \", dias_solicitados_stats.min())\n",
    "print(\"Max:    \", dias_solicitados_stats.max())\n",
    "print(\"Median: \", dias_solicitados_stats.median())\n",
    "print(\"Mean:   \", round(dias_solicitados_stats.mean(), 2))\n",
    "print(\"Var:    \", round(dias_solicitados_stats.var(), 2))\n",
    "print(\"Std:    \", round(dias_solicitados_stats.std(), 2))\n",
    "print(\"Q1:     \", dias_solicitados_stats.quantile(0.25))\n",
    "print(\"Q3:     \", dias_solicitados_stats.quantile(0.75))\n",
    "print(\"IQR   : \", (dias_solicitados_stats.quantile(0.75) - dias_solicitados_stats.quantile(0.25)))"
   ]
  },
  {
   "attachments": {},
   "cell_type": "markdown",
   "id": "25f68ee4",
   "metadata": {},
   "source": [
    "### f) dias_aprobados"
   ]
  },
  {
   "cell_type": "code",
   "execution_count": null,
   "id": "b3413136",
   "metadata": {},
   "outputs": [],
   "source": [
    "dias_aprobados_stats = pd.Series(relev_df['dias_aprobados'])\n",
    "print(\"Count:  \", dias_aprobados_stats.count())\n",
    "print(\"Min:    \", dias_aprobados_stats.min())\n",
    "print(\"Max:    \", dias_aprobados_stats.max())\n",
    "print(\"Median: \", dias_aprobados_stats.median())\n",
    "print(\"Mean:   \", round(dias_aprobados_stats.mean(), 2))\n",
    "print(\"Var:    \", round(dias_aprobados_stats.var(), 2))\n",
    "print(\"Std:    \", round(dias_aprobados_stats.std(), 2))\n",
    "print(\"Q1:     \", dias_aprobados_stats.quantile(0.25))\n",
    "print(\"Q3:     \", dias_aprobados_stats.quantile(0.75))\n",
    "print(\"IQR   : \", (dias_aprobados_stats.quantile(0.75) - dias_aprobados_stats.quantile(0.25)))"
   ]
  },
  {
   "attachments": {},
   "cell_type": "markdown",
   "id": "2ba5e9ed",
   "metadata": {},
   "source": [
    "### g) genero"
   ]
  },
  {
   "cell_type": "code",
   "execution_count": null,
   "id": "8e3c6950",
   "metadata": {},
   "outputs": [],
   "source": [
    "relev_df['genero'].describe()"
   ]
  },
  {
   "cell_type": "code",
   "execution_count": null,
   "id": "719f7113",
   "metadata": {},
   "outputs": [],
   "source": [
    "relev_df['genero'].value_counts().plot(kind=\"bar\",\n",
    "                           title=\"Géneros\",\n",
    "                           rot=15,\n",
    "                           xlabel=\"Género\",\n",
    "                           ylabel=\"Count\")"
   ]
  },
  {
   "attachments": {},
   "cell_type": "markdown",
   "id": "eed7f3f9",
   "metadata": {},
   "source": [
    "### h) diagnostico"
   ]
  },
  {
   "cell_type": "code",
   "execution_count": null,
   "id": "12a97440",
   "metadata": {},
   "outputs": [],
   "source": [
    "relev_df['diagnostico'].describe()"
   ]
  },
  {
   "cell_type": "code",
   "execution_count": null,
   "id": "59ff5279",
   "metadata": {},
   "outputs": [],
   "source": [
    "diag = relev_df.groupby(['diagnostico']).diagnostico.value_counts().nlargest(25)\n",
    "diag.plot(kind=\"barh\", title=\"Top 25 Diagnósticos\")"
   ]
  },
  {
   "cell_type": "code",
   "execution_count": null,
   "id": "ed542536",
   "metadata": {},
   "outputs": [],
   "source": [
    "from pandasql import sqldf\n",
    "pysqldf = lambda q: sqldf(q, globals())\n",
    "\n",
    "diag_df = pysqldf(\"\"\" SELECT STRFTIME(\"%Y-%m\", fecha_creacion) as periodo, count(*) as casos\n",
    "            FROM relev_df \n",
    "            WHERE diagnostico in ('CONTACTO ESTRECHO', \n",
    "                                'INFLUENZA DEBIDO A VIRUS DE LA INFLUENZA IDENTIFICADO (GRIPE)', \n",
    "                                'COVID SOSPECHOSO',\n",
    "                                'COVID POSITIVO',\n",
    "                                'GASTROENTERITIS VIRAL')\n",
    "            GROUP BY STRFTIME(\"%Y-%m\", fecha_creacion)\n",
    "            ;\"\"\")\n",
    "#sns.barplot(x=diag_df['periodos'], y=diag_df[[]], kind='bar')\n",
    "diag_df.plot(x='periodo', y='casos', kind='bar', color=['skyblue'])"
   ]
  },
  {
   "attachments": {},
   "cell_type": "markdown",
   "id": "5e5b5abe",
   "metadata": {},
   "source": [
    "# 7) Representación gráfica de cada variable numérica\n",
    "-  Eligiendo el gráfico que considere apropiado. Consideren la posibilidad de generar rangos de datos para su análisis y representación gráfica de las variables. \n",
    "- Repitan los gráficos agrupando por una o dos variables categóricas y sacar conclusiones."
   ]
  },
  {
   "cell_type": "code",
   "execution_count": null,
   "id": "a770f4be",
   "metadata": {},
   "outputs": [],
   "source": [
    "def filter_extreme_rows(df, column_list):\n",
    "    # Iterate over the columns and filter out the rows with extreme values\n",
    "    for column in column_list:\n",
    "        q1 = df[column].quantile(0.25)\n",
    "        q3 = df[column].quantile(0.75)\n",
    "        iqr = q3 - q1\n",
    "        lower_bound = q1 - 3 * iqr\n",
    "        upper_bound = q3 + 3 * iqr\n",
    "        df = df[(df[column] >= lower_bound) & (df[column] <= upper_bound)]\n",
    "\n",
    "    return df\n",
    "\n",
    "\n",
    "# filtramos los valores extremos de las columnas numéricas\n",
    "print(f\"\"\"shape antes de filtrar: {relev_df.shape}\"\"\")\n",
    "relev_df_plot = filter_extreme_rows(\n",
    "    relev_df, [\"dias_solicitados\", \"dias_aprobados\", \"dias_lic_efectiva\", \"edad\"]\n",
    ")\n",
    "print(f\"\"\"shape después de filtrar: {relev_df.shape}\"\"\")"
   ]
  },
  {
   "cell_type": "code",
   "execution_count": null,
   "id": "ffd90a46",
   "metadata": {},
   "outputs": [],
   "source": [
    "# Se crea una figura que contenga una cuadricula de 2 filas y 2 columnas para 4 gráficos\n",
    "fig, axes = plt.subplots(2, 2, figsize=(12, 8))\n",
    "\n",
    "# boxplot de dias_solicitados\n",
    "sns.boxplot(ax=axes[0, 0], data=relev_df_plot, x=\"dias_solicitados\", color=\"steelblue\")\n",
    "\n",
    "# boxplot de dias_aprobados\n",
    "sns.boxplot(ax=axes[0, 1], data=relev_df_plot, x=\"dias_aprobados\", color=\"steelblue\")\n",
    "\n",
    "# boxplot de dias_lic_efectiva\n",
    "sns.boxplot(ax=axes[1, 0], data=relev_df_plot, x=\"dias_lic_efectiva\", color=\"steelblue\")\n",
    "\n",
    "# histograma de edad\n",
    "sns.histplot(ax=axes[1, 1], data=relev_df_plot, x=\"edad\", color=\"steelblue\")"
   ]
  },
  {
   "cell_type": "code",
   "execution_count": null,
   "id": "82a9f7c2",
   "metadata": {},
   "outputs": [],
   "source": [
    "# Ahora repetimos los graficos pero agrupando por género\n",
    "fig, axes = plt.subplots(2, 2, figsize=(14, 8))\n",
    "\n",
    "# boxplot de dias_solicitados\n",
    "sns.boxplot(\n",
    "    ax=axes[0, 0], data=relev_df_plot, x=\"dias_solicitados\", y=\"genero\", color=\"steelblue\"\n",
    ")\n",
    "\n",
    "# boxplot de dias_aprobados\n",
    "sns.boxplot(\n",
    "    ax=axes[0, 1], data=relev_df_plot, x=\"dias_aprobados\", y=\"genero\", color=\"steelblue\"\n",
    ")\n",
    "\n",
    "# boxplot de dias_lic_efectiva\n",
    "sns.boxplot(\n",
    "    ax=axes[1, 0], data=relev_df_plot, x=\"dias_lic_efectiva\", y=\"genero\", color=\"steelblue\"\n",
    ")\n",
    "\n",
    "# boxplot de edad\n",
    "sns.histplot(ax=axes[1, 1], data=relev_df_plot, x=\"edad\", hue=\"genero\", color=\"steelblue\")"
   ]
  },
  {
   "attachments": {},
   "cell_type": "markdown",
   "id": "9b03a8f0",
   "metadata": {},
   "source": [
    "# 8 Frecuencias absolutas y relativas de variables categóricas\n",
    "\n",
    "Presenten una tabla de frecuencias y porcentajes para las variables categóricas estado civil y edad."
   ]
  },
  {
   "cell_type": "code",
   "execution_count": null,
   "id": "945bac40",
   "metadata": {},
   "outputs": [],
   "source": [
    "# Frecuencias estado_civil\n",
    "freq_abs_estado_civil = relev_df.estado_civil.value_counts()\n",
    "freq_rel_estado_civil = relev_df.estado_civil.value_counts(normalize=True) * 100\n",
    "\n",
    "# Se crea un dataframe con las frecuencias absolutas y relativas\n",
    "df_freq_estado_civil = pd.DataFrame(\n",
    "    {\"freq_abs\": freq_abs_estado_civil, \"freq_rel\": freq_rel_estado_civil}\n",
    ")\n",
    "df_freq_estado_civil\n",
    "\n",
    "# Frecuencias genero\n",
    "freq_abs_genero = relev_df.genero.value_counts()\n",
    "freq_rel_genero = relev_df.genero.value_counts(normalize=True) * 100\n",
    "\n",
    "# Se crea un dataframe con las frecuencias absolutas y relativas\n",
    "df_freq_genero = pd.DataFrame(\n",
    "    {\"freq_abs\": freq_abs_genero, \"freq_rel\": freq_rel_genero}\n",
    ")\n",
    "df_freq_genero\n",
    "\n",
    "tabla_categoricas = (\n",
    "    pd.crosstab(\n",
    "        index=relev_df.estado_civil, columns=relev_df.genero, normalize=True, margins=True\n",
    "    ).round(2)\n",
    "    * 100\n",
    ")\n",
    "tabla_categoricas"
   ]
  },
  {
   "attachments": {},
   "cell_type": "markdown",
   "id": "c9fd700d",
   "metadata": {},
   "source": [
    "# 9 Gráfica de frecuencias absolutas y relativas"
   ]
  },
  {
   "cell_type": "code",
   "execution_count": null,
   "id": "0734820b",
   "metadata": {},
   "outputs": [],
   "source": [
    "# Dropeamos registros donde All sea menor a 1 porciento\n",
    "tabla_categoricas = tabla_categoricas[tabla_categoricas[\"All\"] > 1]\n",
    "# Dropeamos columna All y graficamos\n",
    "tabla_categoricas.drop(\"All\", axis=1, inplace=False).plot(\n",
    "    kind=\"bar\",\n",
    "    figsize=(8, 6),\n",
    "    rot=0,\n",
    "    color=[\"steelblue\", \"orange\", \"green\"],\n",
    "    stacked=True,\n",
    ")\n",
    "\n",
    "# adjust plot size\n",
    "plt.rcParams[\"figure.figsize\"] = 14, 6\n",
    "plt.show()"
   ]
  }
 ],
 "metadata": {
  "kernelspec": {
   "display_name": "Python 3 (ipykernel)",
   "language": "python",
   "name": "python3"
  },
  "language_info": {
   "codemirror_mode": {
    "name": "ipython",
    "version": 3
   },
   "file_extension": ".py",
   "mimetype": "text/x-python",
   "name": "python",
   "nbconvert_exporter": "python",
   "pygments_lexer": "ipython3",
   "version": "3.10.6"
  }
 },
 "nbformat": 4,
 "nbformat_minor": 5
}
